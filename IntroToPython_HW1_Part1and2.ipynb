{
  "nbformat": 4,
  "nbformat_minor": 0,
  "metadata": {
    "colab": {
      "name": "IntroToPython_HW1_Part1and2.ipynb",
      "provenance": []
    },
    "kernelspec": {
      "name": "python3",
      "display_name": "Python 3"
    },
    "language_info": {
      "name": "python"
    }
  },
  "cells": [
    {
      "cell_type": "markdown",
      "source": [
        "# Welcome to Intro to Python's Homework 1 Part 1 & 2\n",
        "\n",
        "Hello Students!! I hope this finds you well. I am trying to make these so it is easier for the students to upload and open the questions. It is also slightly easier than the powerpoints. You will be finding many more questions along the way and I hope I don't give you too many. But I believe in you. Good luck.\n"
      ],
      "metadata": {
        "id": "q7Nr3tnx5J5P"
      }
    },
    {
      "cell_type": "code",
      "execution_count": null,
      "metadata": {
        "id": "DzYYZ7xl40d2"
      },
      "outputs": [],
      "source": [
        "# HW Problem 1 Part 1 Function 1\n",
        "# Make a function called silly_case \n",
        "# that takes a string  and returns a new string that is the same as the input string\n",
        "# but the first letter of each word is in lowercase \n",
        "# and all the other letters are uppercase.\n",
        "# Please do not use looping!!\n",
        "\n",
        "poem = \"It matters now how straight the gate, \\nhow charged with punishments the scroll. \\nI am the master of my fate: \\nI am the captain of my soul.\"\n",
        "x = \"This is a string\"\n",
        "\n",
        "\n",
        "assert silly_case(poem) == \"iT mATTERS nOW hOW sTRAIGHT tHE gATE, \\nhOW cHARGED wITH pUNISHMENTS tHE sCROLL. \\ni aM tHE mASTER oF mY fATE: \\ni aM tHE cAPTAIN oF mY sOUL.\"\n",
        "assert silly_case(x) == \"tHIS iS a sTRING\"\n",
        "print(\"HW Problem 1 Function 1 is correct\")"
      ]
    },
    {
      "cell_type": "code",
      "source": [
        "# HW Problem 1 Part 1 Function 2\n",
        "\n",
        "# Make a function called dash_stringify \n",
        "# so that is takes a list of words (strings) and returns a string\n",
        "# that contains all the words from the list with ‘-’ in between the words.\n",
        "# No looping!!!\n",
        "\n",
        "\n",
        "\n",
        "\n",
        "assert dash_stringify(fruits) == \"Orange-Lemon-Lime-Cherry-Peach-Apricot\"\n",
        "try:\n",
        "  assert dash_stringify(nums) == \"1-2-3\"\n",
        "except:\n",
        "  print(\"Dash Stringify can only be used on Strings\")\n",
        "print(\"HW Problem 1 Function 2 is correct\")"
      ],
      "metadata": {
        "id": "Cr1nAses8mzE"
      },
      "execution_count": null,
      "outputs": []
    },
    {
      "cell_type": "code",
      "source": [
        "# HW Problem 1 Part 1 Function 3\n",
        "\n",
        "# This function is also probably a part of you 90 problems. \n",
        "\n",
        "\n",
        "# Make a function called is_perfect_square so that it takes a number as an input and returns True if the \n",
        "# given number is a perfect square, or False if it is not. \n",
        "# Please do not use looping!!\n",
        "\n",
        "# A perfect square is an integer number which is the square of an integer. For example 25 (5*5),  49 \n",
        "# (7*7), and 81 (9*9) are all perfect squares\n",
        "\n",
        "\n",
        "\n",
        "assert is_perfect_square1(81) == True\n",
        "assert is_perfect_square1(82) == False\n",
        "assert is_perfect_square2(81) == True\n",
        "assert is_perfect_square2(83) == False\n",
        "assert is_perfect_square3(81) == True\n",
        "assert is_perfect_square3(83) == False\n",
        "\n",
        "print(\"HW1 Function 3 is correct\")\n"
      ],
      "metadata": {
        "id": "iupiEEWqv-_u"
      },
      "execution_count": null,
      "outputs": []
    },
    {
      "cell_type": "code",
      "source": [
        "# HW Problem 1 Part 1 Function 4\n",
        "\n",
        "# Make a function called is_leap_year so that it takes a year \n",
        "# as a number input and returns True if the given number is a leap year\n",
        "# or False if it is not. \n",
        "\n",
        "\n",
        "# Leap years are years that are divisible by 4\n",
        "# Exception: Centennial years (years divided by 100) are not leap years\n",
        "# Exception to exception: years divisible by 400 are indeed leap years\n",
        "\n",
        "\n",
        "assert is_leap_year(1900) == False\n",
        "assert is_leap_year(2000) == True\n",
        "assert is_leap_year(2012) == True\n",
        "assert is_leap_year(2018) == False\n",
        "\n",
        "print(\"HW1 Function 4 is correct\")\n",
        "\n",
        "\n"
      ],
      "metadata": {
        "id": "LkJMQVardWuZ"
      },
      "execution_count": null,
      "outputs": []
    }
  ]
}