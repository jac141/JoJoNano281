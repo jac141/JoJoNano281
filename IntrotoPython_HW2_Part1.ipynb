{
  "nbformat": 4,
  "nbformat_minor": 0,
  "metadata": {
    "colab": {
      "name": "IntrotoPython_HW2_Part1.ipynb",
      "provenance": [],
      "collapsed_sections": []
    },
    "kernelspec": {
      "name": "python3",
      "display_name": "Python 3"
    },
    "language_info": {
      "name": "python"
    }
  },
  "cells": [
    {
      "cell_type": "markdown",
      "source": [
        "# Welcome to Intro to Python's HW 2\n",
        "This Homework will cover Slices, Combinations, Elements, Dictionaries, Comprehensions and combination thereof. \n",
        "\n",
        "There are initially five functions but there might be more added depending on how far we get in class. \n",
        "\n",
        "\n"
      ],
      "metadata": {
        "id": "vbhvukCo7V6L"
      }
    },
    {
      "cell_type": "code",
      "source": [
        "# Function 1: Combine Lists\n",
        "\n",
        "# Edit the function combine_lists so that it takes two lists (sequences) as input and returns a new list containing all elements from both lists; the \n",
        "# elements of the first list, followed by the elements of the second list. The original lists should not be modified. \n",
        "# No \"for loops\"! \n",
        "\n",
        "\n",
        "assert combine_lists(first, second) == [1, 2, 3, 4, 5, 6]\n",
        "assert combine_lists(first, third) == [1, 2, 3, 7, 8, 9, 10]\n",
        "assert combine_lists(first, fruits) == [1, 2, 3, \"apples\", \"grapes\", \"peaches\", \"apricots\", \"bananas\"]\n",
        "\n",
        "print(\"HW2 Function 1 is correct\")"
      ],
      "metadata": {
        "id": "5bylb-1-8Qgi"
      },
      "execution_count": null,
      "outputs": []
    },
    {
      "cell_type": "code",
      "execution_count": null,
      "metadata": {
        "id": "iV6QU-987Hxb"
      },
      "outputs": [],
      "source": [
        "# Function 2: last_n_elements\n",
        "\n",
        "# Edit the function last_n_elements so that it uses a slice to return the last n items of a sequence. The original sequence should not be modified. \n",
        "# Do not use len() in your slice. If you feel you need it, please review the lecture about slices. \n",
        "# This may have also been covered in the 90 Intro Questions\n",
        "\n",
        "\n",
        "\n",
        "\n",
        "\n",
        "assert combine_lists(first, second) == [1, 2, 3, 4, 5, 6]\n",
        "assert combine_lists(first, third) == [1, 2, 3, 7, 8, 9, 10]\n",
        "assert combine_lists(first, fruits) == [1, 2, 3, \"apples\", \"grapes\", \"peaches\", \"apricots\", \"bananas\"]\n",
        "\n",
        "print(\"HW2 Function 2 is correct\")"
      ]
    },
    {
      "cell_type": "markdown",
      "source": [
        "It should look like this:\n",
        "\n",
        "\">>>\" represents a returned value\n",
        "\n",
        "\n",
        "```\n",
        "fruits = [\"apples\", \"grapes\", \"peaches\", \"apricots\", \"bananas\"]\n",
        "last_n_elements(fruits, 3)\n",
        ">>> [\"peaches\", \"apricots\", \"bananas\"]\n",
        "last_n_elements(fruits, 1)\n",
        ">>> [\"bananas\"]\n",
        "numbers = [41, 25, 54, 15, 76, 68, 32, 38]\n",
        "last_n_elements(numbers, 4)\n",
        ">>> [76, 68, 32, 38]\n",
        "\n",
        "\n",
        "```\n"
      ],
      "metadata": {
        "id": "o_mYkciK97uz"
      }
    },
    {
      "cell_type": "code",
      "source": [
        "# Function 3: power_list \n",
        "\n",
        "# Edit the function power_list so that it accepts a list of numbers and returns a new list \n",
        "# that contains each number raised to the i-th power where i is the index of that number in the given list.\n",
        "# Use a list comprehension. \n",
        "\n",
        "\n",
        "\n",
        "assert power_list([2, 2, 2, 2, 2, 2]) == [1, 2, 4, 8, 16, 32]\n",
        "assert power_list([9, 6, 5, 4]) == [1, 6, 25, 64]\n",
        "assert power_list([33, 700, 82.25, 16, 2, 3, 9.5]) == [1, 700, 6765.0625, 4096, 16, 243, 735091.890625]\n",
        "assert power_list([2.5, 2.5, 2.5, 2.5, 2.5, 2.5]) == [1.0, 2.5, 6.25, 15.625, 39.0625, 97.65625]\n",
        "\n",
        "print(\"HW2 Function 3 is correct\")"
      ],
      "metadata": {
        "id": "ttm--n6i_IU3"
      },
      "execution_count": null,
      "outputs": []
    },
    {
      "cell_type": "markdown",
      "source": [
        "It should look like this:\n",
        "\n",
        "\">>>\" represents a returned value\n",
        "\n",
        "\n",
        "```\n",
        "power_list = ([2, 2, 2, 2, 2, 2])\n",
        ">>> [1, 2, 4, 8, 16, 32]\n",
        "\n",
        "new_list = power_list([9, 6, 5, 4])\n",
        ">>> [1, 6, 25, 64]\n",
        "\n",
        "numbers = [33, 700, 82.25, 16, 2, 3, 9.5]\n",
        "power_list(numbers)\n",
        ">>> [1, 700, 6765.0625, 4096, 16, 243, 735091.890625]\n",
        "\n",
        "power_list([2.5, 2.5, 2.5, 2.5, 2.5, 2.5])\n",
        ">>> [1.0, 2.5, 6.25, 15.625, 39.0625, 97.65625]\n",
        "\n",
        "```\n"
      ],
      "metadata": {
        "id": "6dLQCE7f_fdi"
      }
    },
    {
      "cell_type": "code",
      "source": [
        "# Function 4: rotate_list \n",
        "# Edit the function rotate_list so that it removes the first item from a given list, adds it to the end of the list, and returns the item that was moved. \n",
        "# No \"for loops\"! \n",
        "# Hint: Look through the documentation on sequence types (ie, lists) for methods that would be useful. Do not use del . \n",
        "\n",
        "\n",
        "\n",
        "\n",
        "assert rotate_list([1, 2, 3, 4]) == 1\n",
        "assert rotate_list(rotate_list([1, 2, 3, 4])) == 2\n",
        "assert rotate_list([\"apples\", \"grapes\", \"peaches\", \"apricots\", \"bananas\"])  == \"apples\"\n",
        "print(\"HW2 Function 4 is correct\")"
      ],
      "metadata": {
        "id": "r_iqSnCfB4aQ"
      },
      "execution_count": null,
      "outputs": []
    },
    {
      "cell_type": "markdown",
      "source": [
        "It should look like this:\n",
        "\n",
        "\">>>\" represents a returned value\n",
        "\n",
        "\n",
        "```\n",
        "numbers = [1, 2, 3, 4]\n",
        "item = rotate_list(numbers)\n",
        "item\n",
        ">>> 1\n",
        "numbers\n",
        ">>> [2, 3, 4, 1]\n",
        "rotate_list(numbers)\n",
        ">>> [3, 4, 2, 1]\n",
        "\n",
        "fruits = [\"apples\", \"grapes\", \"peaches\", \"apricots\", \"bananas\"]\n",
        ">>> \"apples\"\n",
        "fruits\n",
        ">>> [\"grapes\", \"peaches\", \"apricots\", \"bananas\", \"apples\"]\n",
        "\n",
        "\n",
        "```\n"
      ],
      "metadata": {
        "id": "h9KVOKzfC8ij"
      }
    },
    {
      "cell_type": "code",
      "source": [
        "# Function 5: get_word_codes\n",
        "# Edit the function get_word_codes so that it accepts a list of strings and returns a dictionary containing the strings as keys and a list of \n",
        "# corresponding character codes as values. \n",
        "# It should work on any strings. \n",
        "# Use a dictionary comprehension. \n",
        "# Hint: Look through Python's built-in functions for a useful function to use for this. \n",
        "\n",
        "\n",
        "assert get_word_codes([\"yes\", \"no\"]) == {\"yes\": [121, 101, 115], \"no\": [110, 111]}\n",
        "assert get_word_codes([\"hello\", \"python\", \"bye\"]) == {\"hello\": [104, 101, 108, 108, 111], \"python\": [112, 121, 116, 104, 111, 110], \"bye\": [98, 121, 101]}\n",
        "assert get_word_codes([\"Python is fun!\"]) == {\"Python is fun!\": [80, 121, 116, 104, 111, 110, 32, 105, 115, 32, 102, 117, 110, 33]}\n",
        "\n",
        "print(\"HW2 Function 5 is correct\")"
      ],
      "metadata": {
        "id": "pjwkrBOQETgT"
      },
      "execution_count": null,
      "outputs": []
    },
    {
      "cell_type": "markdown",
      "source": [
        "It should work like this:\n",
        "\n",
        "\n",
        "\n",
        "```\n",
        "words = [\"yes\", \"no\"]\n",
        "codes = get_word_codes(words)\n",
        "codes\n",
        ">>> {\"yes\": [121, 101, 115], \"no\": [110, 111]}\n",
        "\n",
        "\n",
        "words2 = ([\"hello\", \"python\", \"bye\"])\n",
        "codes2 = get_word_codes(words2)\n",
        "codes2\n",
        ">>> {\"hello\": [104, 101, 108, 108, 111], \"python\": [112, 121, 116, 104, 111, 110], \"bye\": [98, 121, 101]}\n",
        "\n",
        "codes3 = get_word_codes([\"Python is fun!\"])\n",
        "codes3 \n",
        ">>> {\"Python is fun!\": [80, 121, 116, 104, 111, 110, 32, 105, 115, 32, 102, 117, 110, 33]}\n",
        "\n",
        "\n",
        "\n",
        "```\n",
        "\n"
      ],
      "metadata": {
        "id": "JoK2qejBF8Kw"
      }
    },
    {
      "cell_type": "code",
      "source": [
        ""
      ],
      "metadata": {
        "id": "v9-9QTZzGgx8"
      },
      "execution_count": null,
      "outputs": []
    }
  ]
}