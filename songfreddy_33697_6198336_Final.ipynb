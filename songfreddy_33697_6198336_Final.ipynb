{
  "nbformat": 4,
  "nbformat_minor": 0,
  "metadata": {
    "colab": {
      "name": "songfreddy_33697_6198336_Final.ipynb",
      "provenance": [],
      "collapsed_sections": []
    },
    "kernelspec": {
      "name": "python3",
      "display_name": "Python 3"
    },
    "language_info": {
      "name": "python"
    }
  },
  "cells": [
    {
      "cell_type": "markdown",
      "metadata": {
        "id": "WAu_bN9u9lFX"
      },
      "source": [
        "My name is Freddy Song. Some of my hobbies include: photography, playing piano, socializing and playing video games. "
      ]
    },
    {
      "cell_type": "markdown",
      "metadata": {
        "id": "r0OjEdQT_bjs"
      },
      "source": [
        "I decided to make a simple calculator that will return the simple addition, subtraction, multiplication, division and exponententing of numbers. I decided to make this program because creating a chatbot seemed boring, but I wanted something that the user can interact with, so I decided to create something useful. **Note: I only used one code box to edit my work and I didn't create two. The only major edit I made was adding the ability to do exponenents and I also added some checks to make sure that the input of the user would be valid. If it isn't valid, the program will alert the user of the issue.**"
      ]
    },
    {
      "cell_type": "code",
      "metadata": {
        "id": "MYzNwhR49jMT",
        "colab": {
          "base_uri": "https://localhost:8080/"
        },
        "outputId": "fd60e1d8-868d-4a12-eb00-e34b060c6a82"
      },
      "source": [
        "import math\n",
        "\n",
        "def add(x, y): # This function adds two numbers\n",
        "  return x + y\n",
        "def subtract(x, y): # This function subtracts two numbers\n",
        "  return x - y\n",
        "def multiply(x, y): # This function multiplies two numbers\n",
        "  return x * y\n",
        "def divide(x, y): # This function divides two numbers\n",
        "  return x / y\n",
        "\n",
        "print(\"Select operation.\")\n",
        "print(\"1. Add\")\n",
        "print(\"2. Subtract\")\n",
        "print(\"3. Multiply\")      # These numbers allow the user to choose which operation to use\n",
        "print(\"4. Divide\")\n",
        "print(\"5. Exponential\")\n",
        "\n",
        "while True:\n",
        "  isNum = False\n",
        "  choice = input(\"Enter choice(1/2/3/4/5): \") # Take input from the user\n",
        "  if choice == \"1\" or choice == \"2\" or choice == \"3\" or choice == \"4\" or choice == \"5\": # Check if choice is one of the four options\n",
        "      while isNum == False:\n",
        "        num1 = input(\"Enter first number: \")   \n",
        "        try:     # Checks if the input is a valid number, if valid proceed on, if invalid, re-enter a valid number\n",
        "          int(num1)\n",
        "          isNum = True\n",
        "        except ValueError:\n",
        "          print(\"Invalid Input, please enter a number\")\n",
        "      num1 = float(num1)   # Converts string input to a float to use for calculations\n",
        "      isNum = False\n",
        "      while isNum == False:\n",
        "        num2 = input(\"Enter second number(if you chose 5, this will be the number of the power): \")    \n",
        "        try:         # Checks if the input is a valid number, if valid proceed on, if invalid, re-enter a valid number\n",
        "          int(num2)\n",
        "          isNum = True\n",
        "        except ValueError:\n",
        "          print(\"Invalid Input, please enter a number\")\n",
        "      num2 = float(num2)      # Converts string input to a float to use for calculations\n",
        "\n",
        "      if choice == '1':\n",
        "        print(num1, \"+\", num2, \"=\", add(num1, num2))\n",
        "      elif choice == '2':\n",
        "        print(num1, \"-\", num2, \"=\", subtract(num1, num2))\n",
        "      elif choice == '3':\n",
        "        print(num1, \"*\", num2, \"=\", multiply(num1, num2))\n",
        "      elif choice == '4':                                               # Checks which number was originally entered, and does the calcuation and prints the result\n",
        "        print(num1, \"/\", num2, \"=\", divide(num1, num2))\n",
        "      elif choice == '5':    \n",
        "        print(num1, \"^\", num2, \"=\", math.pow(num1,num2))\n",
        "  else:\n",
        "    print(\"Invalid Input\")            # If the choice number for operation wasn't 1, 2, 3, 4 or 5, this line is printed\n",
        "  isContinue = input(\"If you would like to try again, type: continue. If you would like to quit, type: stop. \")        #Asks the user whether or not they would like to continue using the calc.\n",
        "  if isContinue == \"continue\":             # If continue, passes all the elif and elses, and resets the while loop \n",
        "    pass\n",
        "  elif isContinue == \"stop\":\n",
        "    print(\"Thank you for using my calculator!\")        # If stop, the while loop is terminated and the program closes\n",
        "    break \n",
        "  else:\n",
        "    print(\"Invalid Input, please restart\")           # If neither stop or continue is typed in, program automatically restarts\n",
        "    break\n",
        "  \n"
      ],
      "execution_count": null,
      "outputs": [
        {
          "output_type": "stream",
          "text": [
            "Select operation.\n",
            "1. Add\n",
            "2. Subtract\n",
            "3. Multiply\n",
            "4. Divide\n",
            "5. Exponential\n",
            "Enter choice(1/2/3/4/5): 32\n",
            "Invalid Input\n",
            "If you would like to try again, type: continue. If you would like to quit, type: stop. continue\n",
            "Enter choice(1/2/3/4/5): 2\n",
            "Enter first number: 3\n",
            "Enter second number(if you chose 5, this will be the number of the power): 6\n",
            "3.0 - 6.0 = -3.0\n",
            "If you would like to try again, type: continue. If you would like to quit, type: stop. stop\n",
            "Thank you for using my calculator!\n"
          ],
          "name": "stdout"
        }
      ]
    }
  ]
}