{
  "nbformat": 4,
  "nbformat_minor": 0,
  "metadata": {
    "colab": {
      "name": "almorohenredamahdi_36719_6253662_Final_project.ipynb",
      "provenance": []
    },
    "kernelspec": {
      "name": "python3",
      "display_name": "Python 3"
    },
    "language_info": {
      "name": "python"
    }
  },
  "cells": [
    {
      "cell_type": "markdown",
      "metadata": {
        "id": "BGmalvvu7owV"
      },
      "source": [
        "Hello, my name is Reda Almorohen. I am 16 from Saudi Arabia,  which is somewhere in the middle east. Some of my likes are greek mythology books and photography. I'm also an athlete and a musician, I play soccer professionally, and I can play more than one instrument."
      ]
    },
    {
      "cell_type": "markdown",
      "metadata": {
        "id": "89hK76yhAP9T"
      },
      "source": [
        "I chose this program because I find it intresting and useful in the future. It contains lots of knowledge I gathered throghout the last 4 weeks in this course. Which I can always go back to remember later on. What makes it intresting is that I can let my friends and family play the adventure game. I am always allowed and have the space to improve to it and make it more advanced."
      ]
    },
    {
      "cell_type": "code",
      "metadata": {
        "colab": {
          "base_uri": "https://localhost:8080/"
        },
        "id": "m5pwb4iTyRp_",
        "outputId": "a83fb03f-93dc-428f-8d59-75c4946a55bf"
      },
      "source": [
        "import time\n",
        "from termcolor import colored\n",
        "\n",
        "#The name inserted by the user will be inserted in the welcome text.\n",
        "name= input('What is your name?: ')\n",
        "print('Welcome',name, 'to our adventure game.')\n",
        "time.sleep(2)\n",
        "rd= input(' Are you ready to start?: ')\n",
        "time.sleep(2)\n",
        "print('Have fun!')\n",
        "time.sleep(3)\n",
        "print('')\n",
        "print('You are in Rome for vacation alone.')\n",
        "time.sleep(1)\n",
        "print(\"You can pick one item to take with you :\")\n",
        "time.sleep(1)\n",
        "#the item chosen by the player will either let them win or lose\n",
        "#the passport option will always let you lose\n",
        "print(\"spaghetti(s), razor (r), passport (p), rocks (k), or money (m)\")\n",
        "time.sleep(1)\n",
        "item = input(\"What do you choose? \")\n",
        "time.sleep(1)\n",
        "print('You are currently in a dangerous area to meet a friend.')\n",
        "time.sleep(1)\n",
        "print('A black car showed up and attacked you.')\n",
        "time.sleep(2)\n",
        "print(\"You realize that you got captured by an Italian mafia.\")\n",
        "time.sleep(1)\n",
        "print(\"You are now in a cell and they want something from you.\")\n",
        "time.sleep(1)\n",
        "print(\"They have been torturing you for 12 hours.\")\n",
        "time.sleep(2)\n",
        "print('You are bleeding...')\n",
        "time.sleep(2)\n",
        "print('The guards are asleep and they forgot the cell unlocked.')\n",
        "time.sleep(1)\n",
        "print('Do you escape the cell?')\n",
        "enter = input(\"enter yes or no: \")\n",
        "if enter == \"yes\":\n",
        "  print(\"You escaped and are now roaming in the streets of Rome.\")\n",
        "  time.sleep(2)\n",
        "  print(\"They are searching for you...\")\n",
        "  time.sleep(2)\n",
        "  print(\"You have no idea where to go\")\n",
        "  time.sleep(1)\n",
        "  print(\"You try to call the police, but you do not have a phone!!\")\n",
        "  time.sleep(1)\n",
        "  print('You keep running')\n",
        "  time.sleep(2)\n",
        "  paths = input(\"There are 4 paths (1), (2), (3), (4). Which one are you taking? \")\n",
        "  #the rocks will be used to throw at the wolves\n",
        "  if paths == \"1\":\n",
        "      print(\"You run into the woods to hide, and got surrounded by a pack of wolves.\")\n",
        "      if item == (\"k\"):\n",
        "        won1= colored(\"You use the rocks to throw at the wolves, now you can hide in the woods safely. CONGRATULATIONS! You won the game\",'green',)\n",
        "        print(won1)\n",
        "      else:\n",
        "        lost1=colored(\"If you had rocks, you could have defended yourself from the wolves, --- You were dinner to the wolves. You lost the game.---\",'red',)\n",
        "        print(lost1)\n",
        "\n",
        "  elif paths == \"2\":\n",
        "    print(\"You reach a house and ring the bell\")\n",
        "    time.sleep(2)\n",
        "    if item == (\"s\") or (\"m\"):\n",
        "      won2= colored(\"You have chosen an item that you can offer to the house owners. You give them what they want, get in, and hide in there. CONGRATULATIONS! You won the game\",'green',)\n",
        "      print(won2)\n",
        "    else:\n",
        "      lost2= colored(\"if you had money or spaghetti, you could have got in the house. ---You got caught. You lost the game.---\",'red',)\n",
        "      print(lost2)\n",
        "\n",
        "  if paths == \"3\":\n",
        "    time.sleep(2)\n",
        "    lost3= colored(\"You are going to a police station, that was expected. The mafia members were waiting for you there. You got caught ---You lost the game.---\",'red',)\n",
        "    print(lost3)\n",
        "\n",
        "  if paths == \"4\":\n",
        "    time.sleep(2)\n",
        "    print(\"You ran and reached really far. You got exhausted\")\n",
        "    time.sleep(2)\n",
        "    print('Your only way to get away is by changing your apperance.')\n",
        "    time.sleep(3)\n",
        "    if item == (\"r\"):\n",
        "      won3= colored(\"You use the razor to shave your hair. A mafia car drives by you, but could not recognize you. CONGRATULATIONS! You got out safely. You won the game.\",'green',)\n",
        "      print(won3)\n",
        "    else:\n",
        "      lost4= colored(\"If you had a razor, you could have changed your apperance.---You got caught. You lost the game.---\",'red',)\n",
        "\n",
        "#if you chose no you will lose no matter what\n",
        "if enter == \"no\":\n",
        "  print(\"Good idea. You are not taking risks.\")\n",
        "  time.sleep(2)\n",
        "  print(\"You are still their prisoner.\")\n",
        "  time.sleep(2)\n",
        "  print(\"they will not set you free until they get what they want\")\n",
        "  time.sleep(1)\n",
        "  print(\"Their boss visits you the next day and threatens you with your family back home!\")\n",
        "  time.sleep(2)\n",
        "  print('The boss asks for money. A lot of money.')\n",
        "  time.sleep(2)\n",
        "  print(\"He says, if you have money I will not hurt your family.\")\n",
        "  time.sleep(2)\n",
        "  die= input('Do you want to die?')\n",
        "  #this part is a question to the user and no matter what the answer is the result will always be the same.\n",
        "  time.sleep(2)\n",
        "  if item == (\"m\"):\n",
        "      lost5= colored(\"Sadly, you did choose correctly!, You give him the money, he still kills you, ---You lost the game.---\",'red',)\n",
        "      print(lost5)\n",
        "      time.sleep(2)\n",
        "      lost6= colored('You should have escaped when you had the chance.','red',)\n",
        "      print(lost6)\n",
        "  else:\n",
        "    #when the player loses the text color will be red \n",
        "    lost7= colored(\"You should have chosen the money, you do not have what they want, you got killed.---You lost the game.---\",'red',)\n",
        "    print(lost7)\n",
        "\n"
      ],
      "execution_count": null,
      "outputs": [
        {
          "output_type": "stream",
          "text": [
            "What is your name?: reda\n",
            "Welcome reda to our adventure game.\n",
            " Are you ready to start?: Yes\n",
            "Have fun!\n",
            "\n",
            "You are in Rome for vacation alone.\n",
            "You can pick one item to take with you :\n",
            "spaghetti(s), razor (r), passport (p), rocks (k), or money (m)\n",
            "What do you choose? k\n",
            "You are currently in a dangerous area to meet a friend.\n",
            "A black car showed up and attacked you.\n",
            "You realize that you got captured by an Italian mafia.\n",
            "You are now in a cell and they want something from you.\n",
            "They have been torturing you for 12 hours.\n",
            "You are bleeding...\n",
            "The guards are asleep and they forgot the cell unlocked.\n",
            "Do you escape the cell?\n",
            "enter yes or no: yes\n",
            "You escaped and are now roaming in the streets of Rome.\n",
            "They are searching for you...\n",
            "You have no idea where to go\n",
            "You try to call the police, but you do not have a phone!!\n",
            "You keep running\n",
            "There are 4 paths (1), (2), (3), (4). Which one are you taking? 1\n",
            "You run into the woods to hide, and got surrounded by a pack of wolves.\n",
            "\u001b[32mYou use the rocks to throw at the wolves, now you can hide in the woods safely. CONGRATULATIONS! You won the game\u001b[0m\n"
          ],
          "name": "stdout"
        }
      ]
    },
    {
      "cell_type": "markdown",
      "metadata": {
        "id": "ybti8NqfG_Bu"
      },
      "source": [
        "Problem\\Solution #1"
      ]
    },
    {
      "cell_type": "code",
      "metadata": {
        "colab": {
          "base_uri": "https://localhost:8080/",
          "height": 368
        },
        "id": "Ac4nynAdFfq-",
        "outputId": "2b782ef2-4df3-4872-ca96-9f034d9e3fa0"
      },
      "source": [
        "import time\n",
        "from termcolor import colored\n",
        "\n",
        "name= input('What is your name?: ')\n",
        "n= colored('Welcome',name, 'to our adventure game.','green',)\n",
        "print(n)\n",
        "time.sleep(2)\n",
        "\n",
        "#I tried to change the color of the text including the input of the user\n",
        "#It did not work no matter what, so I had to make it simpler by not changing the color"
      ],
      "execution_count": null,
      "outputs": [
        {
          "output_type": "stream",
          "text": [
            "What is your name?: f\n"
          ],
          "name": "stdout"
        },
        {
          "output_type": "error",
          "ename": "KeyError",
          "evalue": "ignored",
          "traceback": [
            "\u001b[0;31m---------------------------------------------------------------------------\u001b[0m",
            "\u001b[0;31mKeyError\u001b[0m                                  Traceback (most recent call last)",
            "\u001b[0;32m<ipython-input-13-b88d92240f40>\u001b[0m in \u001b[0;36m<module>\u001b[0;34m()\u001b[0m\n\u001b[1;32m      3\u001b[0m \u001b[0;34m\u001b[0m\u001b[0m\n\u001b[1;32m      4\u001b[0m \u001b[0mname\u001b[0m\u001b[0;34m=\u001b[0m \u001b[0minput\u001b[0m\u001b[0;34m(\u001b[0m\u001b[0;34m'What is your name?: '\u001b[0m\u001b[0;34m)\u001b[0m\u001b[0;34m\u001b[0m\u001b[0;34m\u001b[0m\u001b[0m\n\u001b[0;32m----> 5\u001b[0;31m \u001b[0mn\u001b[0m\u001b[0;34m=\u001b[0m \u001b[0mcolored\u001b[0m\u001b[0;34m(\u001b[0m\u001b[0;34m'Welcome'\u001b[0m\u001b[0;34m,\u001b[0m\u001b[0mname\u001b[0m\u001b[0;34m,\u001b[0m \u001b[0;34m'to our adventure game.'\u001b[0m\u001b[0;34m,\u001b[0m\u001b[0;34m'green'\u001b[0m\u001b[0;34m,\u001b[0m\u001b[0;34m)\u001b[0m\u001b[0;34m\u001b[0m\u001b[0;34m\u001b[0m\u001b[0m\n\u001b[0m\u001b[1;32m      6\u001b[0m \u001b[0mprint\u001b[0m\u001b[0;34m(\u001b[0m\u001b[0mn\u001b[0m\u001b[0;34m)\u001b[0m\u001b[0;34m\u001b[0m\u001b[0;34m\u001b[0m\u001b[0m\n\u001b[1;32m      7\u001b[0m \u001b[0mtime\u001b[0m\u001b[0;34m.\u001b[0m\u001b[0msleep\u001b[0m\u001b[0;34m(\u001b[0m\u001b[0;36m2\u001b[0m\u001b[0;34m)\u001b[0m\u001b[0;34m\u001b[0m\u001b[0;34m\u001b[0m\u001b[0m\n",
            "\u001b[0;32m/usr/local/lib/python3.7/dist-packages/termcolor.py\u001b[0m in \u001b[0;36mcolored\u001b[0;34m(text, color, on_color, attrs)\u001b[0m\n\u001b[1;32m    103\u001b[0m         \u001b[0mfmt_str\u001b[0m \u001b[0;34m=\u001b[0m \u001b[0;34m'\\033[%dm%s'\u001b[0m\u001b[0;34m\u001b[0m\u001b[0;34m\u001b[0m\u001b[0m\n\u001b[1;32m    104\u001b[0m         \u001b[0;32mif\u001b[0m \u001b[0mcolor\u001b[0m \u001b[0;32mis\u001b[0m \u001b[0;32mnot\u001b[0m \u001b[0;32mNone\u001b[0m\u001b[0;34m:\u001b[0m\u001b[0;34m\u001b[0m\u001b[0;34m\u001b[0m\u001b[0m\n\u001b[0;32m--> 105\u001b[0;31m             \u001b[0mtext\u001b[0m \u001b[0;34m=\u001b[0m \u001b[0mfmt_str\u001b[0m \u001b[0;34m%\u001b[0m \u001b[0;34m(\u001b[0m\u001b[0mCOLORS\u001b[0m\u001b[0;34m[\u001b[0m\u001b[0mcolor\u001b[0m\u001b[0;34m]\u001b[0m\u001b[0;34m,\u001b[0m \u001b[0mtext\u001b[0m\u001b[0;34m)\u001b[0m\u001b[0;34m\u001b[0m\u001b[0;34m\u001b[0m\u001b[0m\n\u001b[0m\u001b[1;32m    106\u001b[0m \u001b[0;34m\u001b[0m\u001b[0m\n\u001b[1;32m    107\u001b[0m         \u001b[0;32mif\u001b[0m \u001b[0mon_color\u001b[0m \u001b[0;32mis\u001b[0m \u001b[0;32mnot\u001b[0m \u001b[0;32mNone\u001b[0m\u001b[0;34m:\u001b[0m\u001b[0;34m\u001b[0m\u001b[0;34m\u001b[0m\u001b[0m\n",
            "\u001b[0;31mKeyError\u001b[0m: 'f'"
          ]
        }
      ]
    },
    {
      "cell_type": "markdown",
      "metadata": {
        "id": "wel4zNebHn_4"
      },
      "source": [
        "The second problem I faced is with the indentation. I messed up the indentations with the if statments and thought there was something wrong in the code. I figured out afterwards and corrected them."
      ]
    },
    {
      "cell_type": "markdown",
      "metadata": {
        "id": "T8rZCBx6ItSi"
      },
      "source": [
        "Pieces in my code that I learned from class is importing libraries. which is extremley useful and saves a lot of time. Secondly, the 'If' statments and 'else' statments. Which helps us to run a particular code only when a certain condition is statisfied. I also used the basic operators in my program such as \"==\" which we learned in the early weeks of the course. Lastly, how to get a input from the user and store it as a variable to use it afterwards in the code."
      ]
    }
  ]
}