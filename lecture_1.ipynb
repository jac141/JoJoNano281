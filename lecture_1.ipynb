{
 "cells": [
  {
   "cell_type": "markdown",
   "metadata": {},
   "source": [
    "# Basic Python\n",
    "\n",
    "Introduction to some basic python data types."
   ]
  },
  {
   "cell_type": "code",
   "execution_count": 5,
   "metadata": {},
   "outputs": [],
   "source": [
    "x = 1\n",
    "y = 2.0\n",
    "s = \"hello\"\n",
    "l = [1, 2, 3, \"a\"]\n",
    "d = {\"a\": 1, \"b\": 2, \"c\": 3}"
   ]
  },
  {
   "cell_type": "markdown",
   "metadata": {},
   "source": [
    "Operations behave as per what you would expect."
   ]
  },
  {
   "cell_type": "code",
   "execution_count": 6,
   "metadata": {},
   "outputs": [
    {
     "name": "stdout",
     "output_type": "stream",
     "text": [
      "2.0\n"
     ]
    }
   ],
   "source": [
    "z = x * y\n",
    "print(z)"
   ]
  },
  {
   "cell_type": "code",
   "execution_count": 7,
   "metadata": {},
   "outputs": [
    {
     "name": "stdout",
     "output_type": "stream",
     "text": [
      "a\n",
      "1\n",
      "[1, 2, 3, 'a', 1, 2, 3, 'a']\n"
     ]
    }
   ],
   "source": [
    "# Getting item at index 3 - note that Python uses zero-based indexing.\n",
    "print(l[3])\n",
    "\n",
    "# Getting the index of an element\n",
    "print(l.index(2))\n",
    "\n",
    "# Concatenating lists is just using the '+' operator.\n",
    "print(l + l)"
   ]
  },
  {
   "cell_type": "markdown",
   "metadata": {},
   "source": [
    "Dictionaries are essentially key-value pairs"
   ]
  },
  {
   "cell_type": "code",
   "execution_count": 4,
   "metadata": {},
   "outputs": [
    {
     "name": "stdout",
     "output_type": "stream",
     "text": [
      "3\n"
     ]
    }
   ],
   "source": [
    "print(d[\"c\"])  # Getting the value associated with \"c\""
   ]
  },
  {
   "cell_type": "markdown",
   "metadata": {},
   "source": [
    "# Numpy and scipy"
   ]
  },
  {
   "cell_type": "markdown",
   "metadata": {},
   "source": [
    "By convention, numpy is import as np and scipy is imported as sp."
   ]
  },
  {
   "cell_type": "code",
   "execution_count": 5,
   "metadata": {},
   "outputs": [],
   "source": [
    "import numpy as np\n",
    "import scipy as sp"
   ]
  },
  {
   "cell_type": "markdown",
   "metadata": {},
   "source": [
    "An array is essentially a tensor. It can be an arbitrary number of dimensions. For simplicity, we will stick to basic 1D vectors and 2D matrices for now."
   ]
  },
  {
   "cell_type": "code",
   "execution_count": 6,
   "metadata": {},
   "outputs": [
    {
     "name": "stdout",
     "output_type": "stream",
     "text": [
      "[[1 2 3]\n",
      " [4 7 6]\n",
      " [9 4 2]]\n",
      "[1.5 0.5 3. ]\n"
     ]
    }
   ],
   "source": [
    "x = np.array([[1, 2, 3],\n",
    "              [4, 7, 6],\n",
    "              [9, 4, 2]])\n",
    "y = np.array([1.5, 0.5, 3])\n",
    "print(x)\n",
    "print(y)"
   ]
  },
  {
   "cell_type": "markdown",
   "metadata": {},
   "source": [
    "By default, operations are element-wise."
   ]
  },
  {
   "cell_type": "code",
   "execution_count": 7,
   "metadata": {},
   "outputs": [
    {
     "name": "stdout",
     "output_type": "stream",
     "text": [
      "[[ 2  4  6]\n",
      " [ 8 14 12]\n",
      " [18  8  4]]\n",
      "[[ 1  4  9]\n",
      " [16 49 36]\n",
      " [81 16  4]]\n",
      "[2.25 0.25 9.  ]\n"
     ]
    }
   ],
   "source": [
    "print(x + x)\n",
    "print(x * x)\n",
    "print(y * y)"
   ]
  },
  {
   "cell_type": "code",
   "execution_count": 8,
   "metadata": {},
   "outputs": [
    {
     "name": "stdout",
     "output_type": "stream",
     "text": [
      "[[36 28 21]\n",
      " [86 81 66]\n",
      " [43 54 55]]\n"
     ]
    }
   ],
   "source": [
    "print(np.dot(x, x))"
   ]
  },
  {
   "cell_type": "code",
   "execution_count": 9,
   "metadata": {},
   "outputs": [
    {
     "name": "stdout",
     "output_type": "stream",
     "text": [
      "[11.5 27.5 21.5]\n"
     ]
    }
   ],
   "source": [
    "print(np.dot(x, y))"
   ]
  },
  {
   "cell_type": "markdown",
   "metadata": {},
   "source": [
    "Or you can use the @ operator that is available in Python 3.7 onwards."
   ]
  },
  {
   "cell_type": "code",
   "execution_count": 10,
   "metadata": {},
   "outputs": [
    {
     "name": "stdout",
     "output_type": "stream",
     "text": [
      "[[36 28 21]\n",
      " [86 81 66]\n",
      " [43 54 55]]\n",
      "[11.5 27.5 21.5]\n"
     ]
    }
   ],
   "source": [
    "print(x @ x)\n",
    "print(x @ y)"
   ]
  },
  {
   "cell_type": "markdown",
   "metadata": {},
   "source": [
    "Numpy also comes with standard linear algebra operations, such as getting the inverse."
   ]
  },
  {
   "cell_type": "code",
   "execution_count": 11,
   "metadata": {},
   "outputs": [
    {
     "name": "stdout",
     "output_type": "stream",
     "text": [
      "[[ 0.16949153 -0.13559322  0.15254237]\n",
      " [-0.77966102  0.42372881 -0.10169492]\n",
      " [ 0.79661017 -0.23728814  0.01694915]]\n"
     ]
    }
   ],
   "source": [
    "print(np.linalg.inv(x))"
   ]
  },
  {
   "cell_type": "markdown",
   "metadata": {},
   "source": [
    "Eigen values and vectors"
   ]
  },
  {
   "cell_type": "code",
   "execution_count": 12,
   "metadata": {},
   "outputs": [
    {
     "name": "stdout",
     "output_type": "stream",
     "text": [
      "(array([12.50205135, -3.75787445,  1.2558231 ]), array([[-0.27909662, -0.40149786,  0.3019769 ],\n",
      "       [-0.79317124, -0.32770088, -0.78112084],\n",
      "       [-0.5412804 ,  0.85522605,  0.54649811]]))\n"
     ]
    }
   ],
   "source": [
    "print(np.linalg.eig(x))"
   ]
  },
  {
   "cell_type": "markdown",
   "metadata": {},
   "source": [
    "Use of numpy vectorization is key to efficient coding. Here we use the Jupyter %time magic function to demonstrate the relative speeds to two methods of calculation the L2 norm of a very long vector."
   ]
  },
  {
   "cell_type": "code",
   "execution_count": 13,
   "metadata": {},
   "outputs": [],
   "source": [
    "r = np.random.rand(10000, 1)"
   ]
  },
  {
   "cell_type": "code",
   "execution_count": 14,
   "metadata": {},
   "outputs": [
    {
     "name": "stdout",
     "output_type": "stream",
     "text": [
      "CPU times: user 17.7 ms, sys: 1.14 ms, total: 18.8 ms\n",
      "Wall time: 18.6 ms\n",
      "CPU times: user 86 µs, sys: 30 µs, total: 116 µs\n",
      "Wall time: 93.9 µs\n",
      "CPU times: user 1.33 ms, sys: 347 µs, total: 1.67 ms\n",
      "Wall time: 723 µs\n"
     ]
    },
    {
     "data": {
      "text/plain": [
       "57.87926316500198"
      ]
     },
     "execution_count": 14,
     "metadata": {},
     "output_type": "execute_result"
    }
   ],
   "source": [
    "%time sum([i**2 for i in r])**0.5\n",
    "%time np.sqrt(np.sum(r**2))\n",
    "%time np.linalg.norm(r)"
   ]
  },
  {
   "cell_type": "markdown",
   "metadata": {},
   "source": [
    "Scipy has all the linear algebra functions as numpy and more. Moreover, scipy is always compiled with fast BLAS and LAPACK."
   ]
  },
  {
   "cell_type": "code",
   "execution_count": 15,
   "metadata": {},
   "outputs": [
    {
     "data": {
      "text/plain": [
       "array([[ 0.16949153, -0.13559322,  0.15254237],\n",
       "       [-0.77966102,  0.42372881, -0.10169492],\n",
       "       [ 0.79661017, -0.23728814,  0.01694915]])"
      ]
     },
     "execution_count": 15,
     "metadata": {},
     "output_type": "execute_result"
    }
   ],
   "source": [
    "import scipy.linalg as linalg\n",
    "linalg.inv(x)"
   ]
  },
  {
   "cell_type": "code",
   "execution_count": 16,
   "metadata": {},
   "outputs": [
    {
     "name": "stdout",
     "output_type": "stream",
     "text": [
      "1.602176634e-19\n",
      "6.62607015e-34\n"
     ]
    }
   ],
   "source": [
    "import scipy.constants as const\n",
    "print(const.e)\n",
    "print(const.h)"
   ]
  },
  {
   "cell_type": "code",
   "execution_count": 17,
   "metadata": {},
   "outputs": [],
   "source": [
    "import scipy.stats as stats"
   ]
  },
  {
   "cell_type": "code",
   "execution_count": 18,
   "metadata": {},
   "outputs": [
    {
     "data": {
      "text/plain": [
       "0.9750021048517795"
      ]
     },
     "execution_count": 18,
     "metadata": {},
     "output_type": "execute_result"
    }
   ],
   "source": [
    "dist = stats.norm(0, 1)  # Gaussian distribution\n",
    "dist.cdf(1.96)"
   ]
  },
  {
   "cell_type": "markdown",
   "metadata": {},
   "source": [
    "# Pandas\n",
    "\n",
    "pandas is one of the most useful packages that you will be using extensively during this course. You should become very familiar with the Series and DataFrame objects in pandas. Here, we will read in a csv (comma-separated value) file downloaded from figshare. While you can certainly manually download the csv and just called pd.read_csv(filename), we will just use the request method to directly grab the file and read it in using a StringIO stream."
   ]
  },
  {
   "cell_type": "code",
   "execution_count": 19,
   "metadata": {},
   "outputs": [
    {
     "data": {
      "text/html": [
       "<div>\n",
       "<style scoped>\n",
       "    .dataframe tbody tr th:only-of-type {\n",
       "        vertical-align: middle;\n",
       "    }\n",
       "\n",
       "    .dataframe tbody tr th {\n",
       "        vertical-align: top;\n",
       "    }\n",
       "\n",
       "    .dataframe thead th {\n",
       "        text-align: right;\n",
       "    }\n",
       "</style>\n",
       "<table border=\"1\" class=\"dataframe\">\n",
       "  <thead>\n",
       "    <tr style=\"text-align: right;\">\n",
       "      <th></th>\n",
       "      <th>Material compositions 1</th>\n",
       "      <th>Material compositions 2</th>\n",
       "      <th>Enorm (eV)</th>\n",
       "      <th>E_raw (eV)</th>\n",
       "      <th>Site2_MeltingT</th>\n",
       "      <th>Site1_MendeleevNumber</th>\n",
       "      <th>Site1_MiracleRadius</th>\n",
       "      <th>GSestFCClatcnt_max_value</th>\n",
       "      <th>Site2_BCCenergy_pa</th>\n",
       "      <th>Site1_BCCfermi</th>\n",
       "      <th>...</th>\n",
       "      <th>BCCenergy_pa_composition_average</th>\n",
       "      <th>MiracleRadius_min_value</th>\n",
       "      <th>MeltingT_min_value</th>\n",
       "      <th>NUnfilled_max_value</th>\n",
       "      <th>Site2_Group</th>\n",
       "      <th>Site1_CovalentRadii</th>\n",
       "      <th>Site2_NUnfilled</th>\n",
       "      <th>SpecificHeatCapacity_difference</th>\n",
       "      <th>Site1_Electronegativity</th>\n",
       "      <th>BCCenergy_pa_arithmetic_average</th>\n",
       "    </tr>\n",
       "  </thead>\n",
       "  <tbody>\n",
       "    <tr>\n",
       "      <th>0</th>\n",
       "      <td>Ag</td>\n",
       "      <td>Ag</td>\n",
       "      <td>0.000000</td>\n",
       "      <td>1.824450</td>\n",
       "      <td>-0.531814</td>\n",
       "      <td>0.402504</td>\n",
       "      <td>0.263045</td>\n",
       "      <td>-0.626925</td>\n",
       "      <td>1.021337</td>\n",
       "      <td>-1.217816</td>\n",
       "      <td>...</td>\n",
       "      <td>1.386573</td>\n",
       "      <td>0.859808</td>\n",
       "      <td>-0.046109</td>\n",
       "      <td>-1.546561</td>\n",
       "      <td>0.626615</td>\n",
       "      <td>0.690287</td>\n",
       "      <td>-1.036320</td>\n",
       "      <td>-1.057898</td>\n",
       "      <td>0.099471</td>\n",
       "      <td>1.386573</td>\n",
       "    </tr>\n",
       "    <tr>\n",
       "      <th>1</th>\n",
       "      <td>Ag</td>\n",
       "      <td>Co</td>\n",
       "      <td>-0.090142</td>\n",
       "      <td>1.734308</td>\n",
       "      <td>0.064051</td>\n",
       "      <td>0.402504</td>\n",
       "      <td>0.263045</td>\n",
       "      <td>-0.626925</td>\n",
       "      <td>-0.248457</td>\n",
       "      <td>-1.217816</td>\n",
       "      <td>...</td>\n",
       "      <td>0.484851</td>\n",
       "      <td>-0.730180</td>\n",
       "      <td>-0.046109</td>\n",
       "      <td>-0.801582</td>\n",
       "      <td>0.116318</td>\n",
       "      <td>0.690287</td>\n",
       "      <td>-0.391288</td>\n",
       "      <td>-0.388610</td>\n",
       "      <td>0.099471</td>\n",
       "      <td>0.484851</td>\n",
       "    </tr>\n",
       "    <tr>\n",
       "      <th>2</th>\n",
       "      <td>Ag</td>\n",
       "      <td>Cr</td>\n",
       "      <td>0.259139</td>\n",
       "      <td>2.083589</td>\n",
       "      <td>0.524584</td>\n",
       "      <td>0.402504</td>\n",
       "      <td>0.263045</td>\n",
       "      <td>-0.626925</td>\n",
       "      <td>-1.000991</td>\n",
       "      <td>-1.217816</td>\n",
       "      <td>...</td>\n",
       "      <td>-0.049547</td>\n",
       "      <td>-0.311762</td>\n",
       "      <td>-0.046109</td>\n",
       "      <td>0.315885</td>\n",
       "      <td>-0.649128</td>\n",
       "      <td>0.690287</td>\n",
       "      <td>0.576260</td>\n",
       "      <td>-0.287857</td>\n",
       "      <td>0.099471</td>\n",
       "      <td>-0.049547</td>\n",
       "    </tr>\n",
       "    <tr>\n",
       "      <th>3</th>\n",
       "      <td>Ag</td>\n",
       "      <td>Cu</td>\n",
       "      <td>-0.022200</td>\n",
       "      <td>1.802250</td>\n",
       "      <td>-0.394504</td>\n",
       "      <td>0.402504</td>\n",
       "      <td>0.263045</td>\n",
       "      <td>-0.626925</td>\n",
       "      <td>0.746249</td>\n",
       "      <td>-1.217816</td>\n",
       "      <td>...</td>\n",
       "      <td>1.191224</td>\n",
       "      <td>-0.646497</td>\n",
       "      <td>-0.046109</td>\n",
       "      <td>-1.546561</td>\n",
       "      <td>0.626615</td>\n",
       "      <td>0.690287</td>\n",
       "      <td>-1.036320</td>\n",
       "      <td>-0.518150</td>\n",
       "      <td>0.099471</td>\n",
       "      <td>1.191224</td>\n",
       "    </tr>\n",
       "    <tr>\n",
       "      <th>4</th>\n",
       "      <td>Ag</td>\n",
       "      <td>Fe</td>\n",
       "      <td>0.317672</td>\n",
       "      <td>2.142122</td>\n",
       "      <td>0.112116</td>\n",
       "      <td>0.402504</td>\n",
       "      <td>0.263045</td>\n",
       "      <td>-0.626925</td>\n",
       "      <td>-0.637552</td>\n",
       "      <td>-1.217816</td>\n",
       "      <td>...</td>\n",
       "      <td>0.208542</td>\n",
       "      <td>-0.730180</td>\n",
       "      <td>-0.046109</td>\n",
       "      <td>-0.429093</td>\n",
       "      <td>-0.138831</td>\n",
       "      <td>0.690287</td>\n",
       "      <td>-0.068772</td>\n",
       "      <td>-0.287857</td>\n",
       "      <td>0.099471</td>\n",
       "      <td>0.208542</td>\n",
       "    </tr>\n",
       "    <tr>\n",
       "      <th>...</th>\n",
       "      <td>...</td>\n",
       "      <td>...</td>\n",
       "      <td>...</td>\n",
       "      <td>...</td>\n",
       "      <td>...</td>\n",
       "      <td>...</td>\n",
       "      <td>...</td>\n",
       "      <td>...</td>\n",
       "      <td>...</td>\n",
       "      <td>...</td>\n",
       "      <td>...</td>\n",
       "      <td>...</td>\n",
       "      <td>...</td>\n",
       "      <td>...</td>\n",
       "      <td>...</td>\n",
       "      <td>...</td>\n",
       "      <td>...</td>\n",
       "      <td>...</td>\n",
       "      <td>...</td>\n",
       "      <td>...</td>\n",
       "      <td>...</td>\n",
       "    </tr>\n",
       "    <tr>\n",
       "      <th>403</th>\n",
       "      <td>Zr</td>\n",
       "      <td>Nb</td>\n",
       "      <td>-0.067020</td>\n",
       "      <td>2.576100</td>\n",
       "      <td>1.161729</td>\n",
       "      <td>-1.610722</td>\n",
       "      <td>1.247007</td>\n",
       "      <td>0.428381</td>\n",
       "      <td>-1.176407</td>\n",
       "      <td>-1.115927</td>\n",
       "      <td>...</td>\n",
       "      <td>-1.390625</td>\n",
       "      <td>0.776124</td>\n",
       "      <td>1.441713</td>\n",
       "      <td>1.060864</td>\n",
       "      <td>-0.904276</td>\n",
       "      <td>1.735499</td>\n",
       "      <td>0.898777</td>\n",
       "      <td>-1.011120</td>\n",
       "      <td>-1.538087</td>\n",
       "      <td>-1.390625</td>\n",
       "    </tr>\n",
       "    <tr>\n",
       "      <th>404</th>\n",
       "      <td>Zr</td>\n",
       "      <td>Ta</td>\n",
       "      <td>0.153850</td>\n",
       "      <td>2.796970</td>\n",
       "      <td>1.765340</td>\n",
       "      <td>-1.610722</td>\n",
       "      <td>1.247007</td>\n",
       "      <td>0.428381</td>\n",
       "      <td>-1.700431</td>\n",
       "      <td>-1.115927</td>\n",
       "      <td>...</td>\n",
       "      <td>-1.762751</td>\n",
       "      <td>0.943491</td>\n",
       "      <td>1.441713</td>\n",
       "      <td>1.060864</td>\n",
       "      <td>-0.904276</td>\n",
       "      <td>1.735499</td>\n",
       "      <td>0.898777</td>\n",
       "      <td>-0.561330</td>\n",
       "      <td>-1.538087</td>\n",
       "      <td>-1.762751</td>\n",
       "    </tr>\n",
       "    <tr>\n",
       "      <th>405</th>\n",
       "      <td>Zr</td>\n",
       "      <td>Ti</td>\n",
       "      <td>0.248110</td>\n",
       "      <td>2.891230</td>\n",
       "      <td>0.257430</td>\n",
       "      <td>-1.610722</td>\n",
       "      <td>1.247007</td>\n",
       "      <td>0.428381</td>\n",
       "      <td>-0.451494</td>\n",
       "      <td>-1.115927</td>\n",
       "      <td>...</td>\n",
       "      <td>-0.875841</td>\n",
       "      <td>0.692440</td>\n",
       "      <td>1.130177</td>\n",
       "      <td>1.060864</td>\n",
       "      <td>-1.159425</td>\n",
       "      <td>1.735499</td>\n",
       "      <td>1.221293</td>\n",
       "      <td>-0.176309</td>\n",
       "      <td>-1.538087</td>\n",
       "      <td>-0.875841</td>\n",
       "    </tr>\n",
       "    <tr>\n",
       "      <th>406</th>\n",
       "      <td>Zr</td>\n",
       "      <td>Hf</td>\n",
       "      <td>0.204140</td>\n",
       "      <td>2.847260</td>\n",
       "      <td>0.888986</td>\n",
       "      <td>-1.610722</td>\n",
       "      <td>1.247007</td>\n",
       "      <td>0.428381</td>\n",
       "      <td>-1.081422</td>\n",
       "      <td>-1.115927</td>\n",
       "      <td>...</td>\n",
       "      <td>-1.323173</td>\n",
       "      <td>2.031377</td>\n",
       "      <td>1.441713</td>\n",
       "      <td>1.060864</td>\n",
       "      <td>-1.159425</td>\n",
       "      <td>1.735499</td>\n",
       "      <td>1.221293</td>\n",
       "      <td>-0.561330</td>\n",
       "      <td>-1.538087</td>\n",
       "      <td>-1.323173</td>\n",
       "    </tr>\n",
       "    <tr>\n",
       "      <th>407</th>\n",
       "      <td>Zr</td>\n",
       "      <td>Sn</td>\n",
       "      <td>0.248040</td>\n",
       "      <td>2.891160</td>\n",
       "      <td>-1.347640</td>\n",
       "      <td>-1.610722</td>\n",
       "      <td>1.247007</td>\n",
       "      <td>1.651375</td>\n",
       "      <td>0.671125</td>\n",
       "      <td>-1.115927</td>\n",
       "      <td>...</td>\n",
       "      <td>-0.078633</td>\n",
       "      <td>1.780327</td>\n",
       "      <td>-1.262013</td>\n",
       "      <td>1.060864</td>\n",
       "      <td>1.392060</td>\n",
       "      <td>1.735499</td>\n",
       "      <td>-0.068772</td>\n",
       "      <td>-0.877982</td>\n",
       "      <td>-1.538087</td>\n",
       "      <td>-0.078633</td>\n",
       "    </tr>\n",
       "  </tbody>\n",
       "</table>\n",
       "<p>408 rows × 29 columns</p>\n",
       "</div>"
      ],
      "text/plain": [
       "    Material compositions 1 Material compositions 2  Enorm (eV)  E_raw (eV)  \\\n",
       "0                        Ag                      Ag    0.000000    1.824450   \n",
       "1                        Ag                      Co   -0.090142    1.734308   \n",
       "2                        Ag                      Cr    0.259139    2.083589   \n",
       "3                        Ag                      Cu   -0.022200    1.802250   \n",
       "4                        Ag                      Fe    0.317672    2.142122   \n",
       "..                      ...                     ...         ...         ...   \n",
       "403                      Zr                      Nb   -0.067020    2.576100   \n",
       "404                      Zr                      Ta    0.153850    2.796970   \n",
       "405                      Zr                      Ti    0.248110    2.891230   \n",
       "406                      Zr                      Hf    0.204140    2.847260   \n",
       "407                      Zr                      Sn    0.248040    2.891160   \n",
       "\n",
       "     Site2_MeltingT  Site1_MendeleevNumber  Site1_MiracleRadius  \\\n",
       "0         -0.531814               0.402504             0.263045   \n",
       "1          0.064051               0.402504             0.263045   \n",
       "2          0.524584               0.402504             0.263045   \n",
       "3         -0.394504               0.402504             0.263045   \n",
       "4          0.112116               0.402504             0.263045   \n",
       "..              ...                    ...                  ...   \n",
       "403        1.161729              -1.610722             1.247007   \n",
       "404        1.765340              -1.610722             1.247007   \n",
       "405        0.257430              -1.610722             1.247007   \n",
       "406        0.888986              -1.610722             1.247007   \n",
       "407       -1.347640              -1.610722             1.247007   \n",
       "\n",
       "     GSestFCClatcnt_max_value  Site2_BCCenergy_pa  Site1_BCCfermi  ...  \\\n",
       "0                   -0.626925            1.021337       -1.217816  ...   \n",
       "1                   -0.626925           -0.248457       -1.217816  ...   \n",
       "2                   -0.626925           -1.000991       -1.217816  ...   \n",
       "3                   -0.626925            0.746249       -1.217816  ...   \n",
       "4                   -0.626925           -0.637552       -1.217816  ...   \n",
       "..                        ...                 ...             ...  ...   \n",
       "403                  0.428381           -1.176407       -1.115927  ...   \n",
       "404                  0.428381           -1.700431       -1.115927  ...   \n",
       "405                  0.428381           -0.451494       -1.115927  ...   \n",
       "406                  0.428381           -1.081422       -1.115927  ...   \n",
       "407                  1.651375            0.671125       -1.115927  ...   \n",
       "\n",
       "     BCCenergy_pa_composition_average  MiracleRadius_min_value  \\\n",
       "0                            1.386573                 0.859808   \n",
       "1                            0.484851                -0.730180   \n",
       "2                           -0.049547                -0.311762   \n",
       "3                            1.191224                -0.646497   \n",
       "4                            0.208542                -0.730180   \n",
       "..                                ...                      ...   \n",
       "403                         -1.390625                 0.776124   \n",
       "404                         -1.762751                 0.943491   \n",
       "405                         -0.875841                 0.692440   \n",
       "406                         -1.323173                 2.031377   \n",
       "407                         -0.078633                 1.780327   \n",
       "\n",
       "     MeltingT_min_value  NUnfilled_max_value  Site2_Group  \\\n",
       "0             -0.046109            -1.546561     0.626615   \n",
       "1             -0.046109            -0.801582     0.116318   \n",
       "2             -0.046109             0.315885    -0.649128   \n",
       "3             -0.046109            -1.546561     0.626615   \n",
       "4             -0.046109            -0.429093    -0.138831   \n",
       "..                  ...                  ...          ...   \n",
       "403            1.441713             1.060864    -0.904276   \n",
       "404            1.441713             1.060864    -0.904276   \n",
       "405            1.130177             1.060864    -1.159425   \n",
       "406            1.441713             1.060864    -1.159425   \n",
       "407           -1.262013             1.060864     1.392060   \n",
       "\n",
       "     Site1_CovalentRadii  Site2_NUnfilled  SpecificHeatCapacity_difference  \\\n",
       "0               0.690287        -1.036320                        -1.057898   \n",
       "1               0.690287        -0.391288                        -0.388610   \n",
       "2               0.690287         0.576260                        -0.287857   \n",
       "3               0.690287        -1.036320                        -0.518150   \n",
       "4               0.690287        -0.068772                        -0.287857   \n",
       "..                   ...              ...                              ...   \n",
       "403             1.735499         0.898777                        -1.011120   \n",
       "404             1.735499         0.898777                        -0.561330   \n",
       "405             1.735499         1.221293                        -0.176309   \n",
       "406             1.735499         1.221293                        -0.561330   \n",
       "407             1.735499        -0.068772                        -0.877982   \n",
       "\n",
       "     Site1_Electronegativity  BCCenergy_pa_arithmetic_average  \n",
       "0                   0.099471                         1.386573  \n",
       "1                   0.099471                         0.484851  \n",
       "2                   0.099471                        -0.049547  \n",
       "3                   0.099471                         1.191224  \n",
       "4                   0.099471                         0.208542  \n",
       "..                       ...                              ...  \n",
       "403                -1.538087                        -1.390625  \n",
       "404                -1.538087                        -1.762751  \n",
       "405                -1.538087                        -0.875841  \n",
       "406                -1.538087                        -1.323173  \n",
       "407                -1.538087                        -0.078633  \n",
       "\n",
       "[408 rows x 29 columns]"
      ]
     },
     "metadata": {},
     "output_type": "display_data"
    }
   ],
   "source": [
    "import pandas as pd\n",
    "from io import StringIO\n",
    "import requests\n",
    "from IPython.display import display\n",
    "\n",
    "# Get the raw text of the data directly from the figshare url.\n",
    "url = \"https://ndownloader.figshare.com/files/13007075\"\n",
    "raw = requests.get(url).text\n",
    "# Then reads in the data as a pandas DataFrame.\n",
    "data = pd.read_csv(StringIO(raw))\n",
    "display(data)"
   ]
  },
  {
   "cell_type": "markdown",
   "metadata": {},
   "source": [
    "Here, we will get one column from the DataFrame - this is a Pandas Series object."
   ]
  },
  {
   "cell_type": "code",
   "execution_count": 20,
   "metadata": {},
   "outputs": [
    {
     "name": "stdout",
     "output_type": "stream",
     "text": [
      "0      0.000000\n",
      "1     -0.090142\n",
      "2      0.259139\n",
      "3     -0.022200\n",
      "4      0.317672\n",
      "         ...   \n",
      "403   -0.067020\n",
      "404    0.153850\n",
      "405    0.248110\n",
      "406    0.204140\n",
      "407    0.248040\n",
      "Name: Enorm (eV), Length: 408, dtype: float64\n"
     ]
    }
   ],
   "source": [
    "print(data[\"Enorm (eV)\"])"
   ]
  },
  {
   "cell_type": "code",
   "execution_count": 21,
   "metadata": {},
   "outputs": [
    {
     "data": {
      "text/html": [
       "<div>\n",
       "<style scoped>\n",
       "    .dataframe tbody tr th:only-of-type {\n",
       "        vertical-align: middle;\n",
       "    }\n",
       "\n",
       "    .dataframe tbody tr th {\n",
       "        vertical-align: top;\n",
       "    }\n",
       "\n",
       "    .dataframe thead th {\n",
       "        text-align: right;\n",
       "    }\n",
       "</style>\n",
       "<table border=\"1\" class=\"dataframe\">\n",
       "  <thead>\n",
       "    <tr style=\"text-align: right;\">\n",
       "      <th></th>\n",
       "      <th>Enorm (eV)</th>\n",
       "      <th>E_raw (eV)</th>\n",
       "      <th>Site2_MeltingT</th>\n",
       "      <th>Site1_MendeleevNumber</th>\n",
       "      <th>Site1_MiracleRadius</th>\n",
       "      <th>GSestFCClatcnt_max_value</th>\n",
       "      <th>Site2_BCCenergy_pa</th>\n",
       "      <th>Site1_BCCfermi</th>\n",
       "      <th>CovalentRadius_max_value</th>\n",
       "      <th>Site2_Density</th>\n",
       "      <th>...</th>\n",
       "      <th>BCCenergy_pa_composition_average</th>\n",
       "      <th>MiracleRadius_min_value</th>\n",
       "      <th>MeltingT_min_value</th>\n",
       "      <th>NUnfilled_max_value</th>\n",
       "      <th>Site2_Group</th>\n",
       "      <th>Site1_CovalentRadii</th>\n",
       "      <th>Site2_NUnfilled</th>\n",
       "      <th>SpecificHeatCapacity_difference</th>\n",
       "      <th>Site1_Electronegativity</th>\n",
       "      <th>BCCenergy_pa_arithmetic_average</th>\n",
       "    </tr>\n",
       "  </thead>\n",
       "  <tbody>\n",
       "    <tr>\n",
       "      <th>count</th>\n",
       "      <td>177.000000</td>\n",
       "      <td>177.000000</td>\n",
       "      <td>177.000000</td>\n",
       "      <td>177.000000</td>\n",
       "      <td>177.000000</td>\n",
       "      <td>177.000000</td>\n",
       "      <td>177.000000</td>\n",
       "      <td>177.000000</td>\n",
       "      <td>177.000000</td>\n",
       "      <td>177.000000</td>\n",
       "      <td>...</td>\n",
       "      <td>177.000000</td>\n",
       "      <td>177.000000</td>\n",
       "      <td>177.000000</td>\n",
       "      <td>177.000000</td>\n",
       "      <td>177.000000</td>\n",
       "      <td>177.000000</td>\n",
       "      <td>177.000000</td>\n",
       "      <td>177.000000</td>\n",
       "      <td>177.000000</td>\n",
       "      <td>177.000000</td>\n",
       "    </tr>\n",
       "    <tr>\n",
       "      <th>mean</th>\n",
       "      <td>0.491023</td>\n",
       "      <td>2.758123</td>\n",
       "      <td>0.630707</td>\n",
       "      <td>0.156606</td>\n",
       "      <td>0.283693</td>\n",
       "      <td>-0.337304</td>\n",
       "      <td>-0.602949</td>\n",
       "      <td>-0.159539</td>\n",
       "      <td>-0.029106</td>\n",
       "      <td>0.350137</td>\n",
       "      <td>...</td>\n",
       "      <td>-0.182394</td>\n",
       "      <td>0.225325</td>\n",
       "      <td>0.300945</td>\n",
       "      <td>0.012843</td>\n",
       "      <td>-0.327670</td>\n",
       "      <td>0.244180</td>\n",
       "      <td>0.188148</td>\n",
       "      <td>0.004969</td>\n",
       "      <td>-0.068448</td>\n",
       "      <td>-0.182394</td>\n",
       "    </tr>\n",
       "    <tr>\n",
       "      <th>std</th>\n",
       "      <td>0.456827</td>\n",
       "      <td>0.930181</td>\n",
       "      <td>0.811159</td>\n",
       "      <td>1.090180</td>\n",
       "      <td>1.049987</td>\n",
       "      <td>0.787956</td>\n",
       "      <td>0.828576</td>\n",
       "      <td>1.024175</td>\n",
       "      <td>0.821100</td>\n",
       "      <td>1.104672</td>\n",
       "      <td>...</td>\n",
       "      <td>0.824833</td>\n",
       "      <td>0.916557</td>\n",
       "      <td>0.903015</td>\n",
       "      <td>0.850170</td>\n",
       "      <td>0.677260</td>\n",
       "      <td>1.074293</td>\n",
       "      <td>0.788756</td>\n",
       "      <td>0.957366</td>\n",
       "      <td>1.125640</td>\n",
       "      <td>0.824833</td>\n",
       "    </tr>\n",
       "    <tr>\n",
       "      <th>min</th>\n",
       "      <td>0.000000</td>\n",
       "      <td>1.078800</td>\n",
       "      <td>-1.347640</td>\n",
       "      <td>-5.157834</td>\n",
       "      <td>-1.072333</td>\n",
       "      <td>-1.833204</td>\n",
       "      <td>-2.030510</td>\n",
       "      <td>-1.890525</td>\n",
       "      <td>-1.753901</td>\n",
       "      <td>-1.505302</td>\n",
       "      <td>...</td>\n",
       "      <td>-2.947855</td>\n",
       "      <td>-1.985434</td>\n",
       "      <td>-1.262013</td>\n",
       "      <td>-1.919050</td>\n",
       "      <td>-1.669722</td>\n",
       "      <td>-1.115079</td>\n",
       "      <td>-1.358836</td>\n",
       "      <td>-1.057898</td>\n",
       "      <td>-2.438744</td>\n",
       "      <td>-2.947855</td>\n",
       "    </tr>\n",
       "    <tr>\n",
       "      <th>25%</th>\n",
       "      <td>0.129350</td>\n",
       "      <td>2.088341</td>\n",
       "      <td>0.112116</td>\n",
       "      <td>0.114901</td>\n",
       "      <td>-0.088371</td>\n",
       "      <td>-0.860692</td>\n",
       "      <td>-1.176407</td>\n",
       "      <td>-1.115927</td>\n",
       "      <td>-0.645574</td>\n",
       "      <td>-0.468843</td>\n",
       "      <td>...</td>\n",
       "      <td>-0.741590</td>\n",
       "      <td>-0.646497</td>\n",
       "      <td>-0.548331</td>\n",
       "      <td>-0.429093</td>\n",
       "      <td>-0.904276</td>\n",
       "      <td>-0.830021</td>\n",
       "      <td>-0.391288</td>\n",
       "      <td>-0.662083</td>\n",
       "      <td>-0.773893</td>\n",
       "      <td>-0.741590</td>\n",
       "    </tr>\n",
       "    <tr>\n",
       "      <th>50%</th>\n",
       "      <td>0.346170</td>\n",
       "      <td>2.700374</td>\n",
       "      <td>0.527937</td>\n",
       "      <td>0.306636</td>\n",
       "      <td>0.052196</td>\n",
       "      <td>-0.600966</td>\n",
       "      <td>-0.691738</td>\n",
       "      <td>-0.558538</td>\n",
       "      <td>-0.313075</td>\n",
       "      <td>0.113355</td>\n",
       "      <td>...</td>\n",
       "      <td>-0.125189</td>\n",
       "      <td>0.190339</td>\n",
       "      <td>0.158538</td>\n",
       "      <td>-0.056604</td>\n",
       "      <td>-0.393979</td>\n",
       "      <td>0.310210</td>\n",
       "      <td>0.253744</td>\n",
       "      <td>-0.305849</td>\n",
       "      <td>0.044886</td>\n",
       "      <td>-0.125189</td>\n",
       "    </tr>\n",
       "    <tr>\n",
       "      <th>75%</th>\n",
       "      <td>0.744300</td>\n",
       "      <td>3.130163</td>\n",
       "      <td>1.161729</td>\n",
       "      <td>0.690108</td>\n",
       "      <td>1.247007</td>\n",
       "      <td>0.386296</td>\n",
       "      <td>-0.057758</td>\n",
       "      <td>0.913845</td>\n",
       "      <td>0.518170</td>\n",
       "      <td>1.294437</td>\n",
       "      <td>...</td>\n",
       "      <td>0.337856</td>\n",
       "      <td>0.608757</td>\n",
       "      <td>0.942007</td>\n",
       "      <td>0.688375</td>\n",
       "      <td>0.116318</td>\n",
       "      <td>0.880326</td>\n",
       "      <td>0.898777</td>\n",
       "      <td>0.564946</td>\n",
       "      <td>0.836372</td>\n",
       "      <td>0.337856</td>\n",
       "    </tr>\n",
       "    <tr>\n",
       "      <th>max</th>\n",
       "      <td>1.936200</td>\n",
       "      <td>6.069955</td>\n",
       "      <td>2.218049</td>\n",
       "      <td>1.936391</td>\n",
       "      <td>4.269179</td>\n",
       "      <td>2.115409</td>\n",
       "      <td>1.487181</td>\n",
       "      <td>2.029796</td>\n",
       "      <td>2.069829</td>\n",
       "      <td>2.395791</td>\n",
       "      <td>...</td>\n",
       "      <td>1.897242</td>\n",
       "      <td>5.629771</td>\n",
       "      <td>4.052277</td>\n",
       "      <td>1.433353</td>\n",
       "      <td>1.392060</td>\n",
       "      <td>4.491058</td>\n",
       "      <td>1.543809</td>\n",
       "      <td>2.151806</td>\n",
       "      <td>1.764322</td>\n",
       "      <td>1.897242</td>\n",
       "    </tr>\n",
       "  </tbody>\n",
       "</table>\n",
       "<p>8 rows × 27 columns</p>\n",
       "</div>"
      ],
      "text/plain": [
       "       Enorm (eV)  E_raw (eV)  Site2_MeltingT  Site1_MendeleevNumber  \\\n",
       "count  177.000000  177.000000      177.000000             177.000000   \n",
       "mean     0.491023    2.758123        0.630707               0.156606   \n",
       "std      0.456827    0.930181        0.811159               1.090180   \n",
       "min      0.000000    1.078800       -1.347640              -5.157834   \n",
       "25%      0.129350    2.088341        0.112116               0.114901   \n",
       "50%      0.346170    2.700374        0.527937               0.306636   \n",
       "75%      0.744300    3.130163        1.161729               0.690108   \n",
       "max      1.936200    6.069955        2.218049               1.936391   \n",
       "\n",
       "       Site1_MiracleRadius  GSestFCClatcnt_max_value  Site2_BCCenergy_pa  \\\n",
       "count           177.000000                177.000000          177.000000   \n",
       "mean              0.283693                 -0.337304           -0.602949   \n",
       "std               1.049987                  0.787956            0.828576   \n",
       "min              -1.072333                 -1.833204           -2.030510   \n",
       "25%              -0.088371                 -0.860692           -1.176407   \n",
       "50%               0.052196                 -0.600966           -0.691738   \n",
       "75%               1.247007                  0.386296           -0.057758   \n",
       "max               4.269179                  2.115409            1.487181   \n",
       "\n",
       "       Site1_BCCfermi  CovalentRadius_max_value  Site2_Density  ...  \\\n",
       "count      177.000000                177.000000     177.000000  ...   \n",
       "mean        -0.159539                 -0.029106       0.350137  ...   \n",
       "std          1.024175                  0.821100       1.104672  ...   \n",
       "min         -1.890525                 -1.753901      -1.505302  ...   \n",
       "25%         -1.115927                 -0.645574      -0.468843  ...   \n",
       "50%         -0.558538                 -0.313075       0.113355  ...   \n",
       "75%          0.913845                  0.518170       1.294437  ...   \n",
       "max          2.029796                  2.069829       2.395791  ...   \n",
       "\n",
       "       BCCenergy_pa_composition_average  MiracleRadius_min_value  \\\n",
       "count                        177.000000               177.000000   \n",
       "mean                          -0.182394                 0.225325   \n",
       "std                            0.824833                 0.916557   \n",
       "min                           -2.947855                -1.985434   \n",
       "25%                           -0.741590                -0.646497   \n",
       "50%                           -0.125189                 0.190339   \n",
       "75%                            0.337856                 0.608757   \n",
       "max                            1.897242                 5.629771   \n",
       "\n",
       "       MeltingT_min_value  NUnfilled_max_value  Site2_Group  \\\n",
       "count          177.000000           177.000000   177.000000   \n",
       "mean             0.300945             0.012843    -0.327670   \n",
       "std              0.903015             0.850170     0.677260   \n",
       "min             -1.262013            -1.919050    -1.669722   \n",
       "25%             -0.548331            -0.429093    -0.904276   \n",
       "50%              0.158538            -0.056604    -0.393979   \n",
       "75%              0.942007             0.688375     0.116318   \n",
       "max              4.052277             1.433353     1.392060   \n",
       "\n",
       "       Site1_CovalentRadii  Site2_NUnfilled  SpecificHeatCapacity_difference  \\\n",
       "count           177.000000       177.000000                       177.000000   \n",
       "mean              0.244180         0.188148                         0.004969   \n",
       "std               1.074293         0.788756                         0.957366   \n",
       "min              -1.115079        -1.358836                        -1.057898   \n",
       "25%              -0.830021        -0.391288                        -0.662083   \n",
       "50%               0.310210         0.253744                        -0.305849   \n",
       "75%               0.880326         0.898777                         0.564946   \n",
       "max               4.491058         1.543809                         2.151806   \n",
       "\n",
       "       Site1_Electronegativity  BCCenergy_pa_arithmetic_average  \n",
       "count               177.000000                       177.000000  \n",
       "mean                 -0.068448                        -0.182394  \n",
       "std                   1.125640                         0.824833  \n",
       "min                  -2.438744                        -2.947855  \n",
       "25%                  -0.773893                        -0.741590  \n",
       "50%                   0.044886                        -0.125189  \n",
       "75%                   0.836372                         0.337856  \n",
       "max                   1.764322                         1.897242  \n",
       "\n",
       "[8 rows x 27 columns]"
      ]
     },
     "execution_count": 21,
     "metadata": {},
     "output_type": "execute_result"
    }
   ],
   "source": [
    "df = data[data[\"Enorm (eV)\"] >= 0]\n",
    "df.describe()"
   ]
  },
  {
   "cell_type": "markdown",
   "metadata": {},
   "source": [
    "Pandas dataframes come with some conveience functions for quick visualization."
   ]
  },
  {
   "cell_type": "code",
   "execution_count": 22,
   "metadata": {},
   "outputs": [
    {
     "data": {
      "image/png": "[encoded data removed]",
      "text/plain": [
       "<Figure size 432x288 with 1 Axes>"
      ]
     },
     "metadata": {
      "needs_background": "light"
     },
     "output_type": "display_data"
    }
   ],
   "source": [
    "df.plot(x=\"Enorm (eV)\", y=\"E_raw (eV)\", kind=\"scatter\");"
   ]
  },
  {
   "cell_type": "markdown",
   "metadata": {},
   "source": [
    "# Seaborn\n",
    "\n",
    "Here we demonstrate some basic statistical data visualization using the seaborn package. A helpful resource is the [seaborn gallery](https://seaborn.pydata.org/examples/index.html) which has many useful examples with source code."
   ]
  },
  {
   "cell_type": "code",
   "execution_count": 23,
   "metadata": {},
   "outputs": [],
   "source": [
    "import seaborn as sns\n",
    "%matplotlib inline"
   ]
  },
  {
   "cell_type": "code",
   "execution_count": 24,
   "metadata": {},
   "outputs": [
    {
     "data": {
      "image/png": "[encoded data removed]",
      "text/plain": [
       "<Figure size 432x288 with 1 Axes>"
      ]
     },
     "metadata": {
      "needs_background": "light"
     },
     "output_type": "display_data"
    }
   ],
   "source": [
    "sns.distplot(df[\"Enorm (eV)\"], norm_hist=False);"
   ]
  },
  {
   "cell_type": "code",
   "execution_count": 25,
   "metadata": {},
   "outputs": [
    {
     "data": {
      "image/png": "[encoded data removed]",
      "text/plain": [
       "<Figure size 432x288 with 1 Axes>"
      ]
     },
     "metadata": {
      "needs_background": "light"
     },
     "output_type": "display_data"
    }
   ],
   "source": [
    "sns.scatterplot(x=\"Enorm (eV)\", y=\"E_raw (eV)\", data=df);"
   ]
  },
  {
   "cell_type": "markdown",
   "metadata": {},
   "source": [
    "# Materials API using pymatgen"
   ]
  },
  {
   "cell_type": "markdown",
   "metadata": {},
   "source": [
    "The MPRester.query method allows you to perform direct queries to the Materials Project to obtain data. What is returned is a list of dict of properties."
   ]
  },
  {
   "cell_type": "code",
   "execution_count": 26,
   "metadata": {},
   "outputs": [
    {
     "data": {
      "application/vnd.jupyter.widget-view+json": {
       "model_id": "500c272d4bb34df180d74c0af96fb219",
       "version_major": 2,
       "version_minor": 0
      },
      "text/plain": [
       "HBox(children=(FloatProgress(value=0.0, max=2276.0), HTML(value='')))"
      ]
     },
     "metadata": {},
     "output_type": "display_data"
    },
    {
     "name": "stdout",
     "output_type": "stream",
     "text": [
      "{'band_gap': 2.4645,\n",
      " 'elasticity.K_VRH': None,\n",
      " 'final_energy': -671.54655508,\n",
      " 'pretty_formula': 'C4O3'}\n"
     ]
    }
   ],
   "source": [
    "from pymatgen.ext.matproj import MPRester\n",
    "mpr = MPRester()\n",
    "data = mpr.query(criteria=\"*-O\", properties=[\"pretty_formula\", \"final_energy\", \"band_gap\", \"elasticity.K_VRH\"])\n",
    "# What is returned is a list of dict. Let's just see what the first item in the list looks out. \n",
    "import pprint\n",
    "pprint.pprint(data[0])"
   ]
  },
  {
   "cell_type": "markdown",
   "metadata": {},
   "source": [
    "The above is not very friendly for manipulation and visualization. Thankfully, we can easily convert this to a pandas DataFrame since the DataFrame constructor takes in lists of dicts as well."
   ]
  },
  {
   "cell_type": "code",
   "execution_count": 27,
   "metadata": {},
   "outputs": [
    {
     "data": {
      "text/html": [
       "<div>\n",
       "<style scoped>\n",
       "    .dataframe tbody tr th:only-of-type {\n",
       "        vertical-align: middle;\n",
       "    }\n",
       "\n",
       "    .dataframe tbody tr th {\n",
       "        vertical-align: top;\n",
       "    }\n",
       "\n",
       "    .dataframe thead th {\n",
       "        text-align: right;\n",
       "    }\n",
       "</style>\n",
       "<table border=\"1\" class=\"dataframe\">\n",
       "  <thead>\n",
       "    <tr style=\"text-align: right;\">\n",
       "      <th></th>\n",
       "      <th>pretty_formula</th>\n",
       "      <th>final_energy</th>\n",
       "      <th>band_gap</th>\n",
       "      <th>elasticity.K_VRH</th>\n",
       "    </tr>\n",
       "  </thead>\n",
       "  <tbody>\n",
       "    <tr>\n",
       "      <th>0</th>\n",
       "      <td>C4O3</td>\n",
       "      <td>-671.546555</td>\n",
       "      <td>2.4645</td>\n",
       "      <td>NaN</td>\n",
       "    </tr>\n",
       "    <tr>\n",
       "      <th>1</th>\n",
       "      <td>BaO2</td>\n",
       "      <td>-16.991508</td>\n",
       "      <td>2.1206</td>\n",
       "      <td>28.0</td>\n",
       "    </tr>\n",
       "    <tr>\n",
       "      <th>2</th>\n",
       "      <td>BaO</td>\n",
       "      <td>-23.550004</td>\n",
       "      <td>2.3711</td>\n",
       "      <td>67.0</td>\n",
       "    </tr>\n",
       "    <tr>\n",
       "      <th>3</th>\n",
       "      <td>CrO2</td>\n",
       "      <td>-21.669894</td>\n",
       "      <td>0.0030</td>\n",
       "      <td>NaN</td>\n",
       "    </tr>\n",
       "    <tr>\n",
       "      <th>4</th>\n",
       "      <td>Bi2O3</td>\n",
       "      <td>-27.926593</td>\n",
       "      <td>0.1490</td>\n",
       "      <td>NaN</td>\n",
       "    </tr>\n",
       "    <tr>\n",
       "      <th>...</th>\n",
       "      <td>...</td>\n",
       "      <td>...</td>\n",
       "      <td>...</td>\n",
       "      <td>...</td>\n",
       "    </tr>\n",
       "    <tr>\n",
       "      <th>2271</th>\n",
       "      <td>W3O8</td>\n",
       "      <td>-164.562678</td>\n",
       "      <td>1.8159</td>\n",
       "      <td>NaN</td>\n",
       "    </tr>\n",
       "    <tr>\n",
       "      <th>2272</th>\n",
       "      <td>W3O8</td>\n",
       "      <td>-158.365429</td>\n",
       "      <td>1.6439</td>\n",
       "      <td>NaN</td>\n",
       "    </tr>\n",
       "    <tr>\n",
       "      <th>2273</th>\n",
       "      <td>V2O3</td>\n",
       "      <td>-155.954103</td>\n",
       "      <td>0.4423</td>\n",
       "      <td>NaN</td>\n",
       "    </tr>\n",
       "    <tr>\n",
       "      <th>2274</th>\n",
       "      <td>W2O3</td>\n",
       "      <td>-138.409204</td>\n",
       "      <td>0.0224</td>\n",
       "      <td>NaN</td>\n",
       "    </tr>\n",
       "    <tr>\n",
       "      <th>2275</th>\n",
       "      <td>W3O7</td>\n",
       "      <td>-301.613198</td>\n",
       "      <td>0.0000</td>\n",
       "      <td>NaN</td>\n",
       "    </tr>\n",
       "  </tbody>\n",
       "</table>\n",
       "<p>2276 rows × 4 columns</p>\n",
       "</div>"
      ],
      "text/plain": [
       "     pretty_formula  final_energy  band_gap  elasticity.K_VRH\n",
       "0              C4O3   -671.546555    2.4645               NaN\n",
       "1              BaO2    -16.991508    2.1206              28.0\n",
       "2               BaO    -23.550004    2.3711              67.0\n",
       "3              CrO2    -21.669894    0.0030               NaN\n",
       "4             Bi2O3    -27.926593    0.1490               NaN\n",
       "...             ...           ...       ...               ...\n",
       "2271           W3O8   -164.562678    1.8159               NaN\n",
       "2272           W3O8   -158.365429    1.6439               NaN\n",
       "2273           V2O3   -155.954103    0.4423               NaN\n",
       "2274           W2O3   -138.409204    0.0224               NaN\n",
       "2275           W3O7   -301.613198    0.0000               NaN\n",
       "\n",
       "[2276 rows x 4 columns]"
      ]
     },
     "metadata": {},
     "output_type": "display_data"
    }
   ],
   "source": [
    "df = pd.DataFrame(data)\n",
    "display(df)"
   ]
  },
  {
   "cell_type": "markdown",
   "metadata": {},
   "source": [
    "Oftentimes, you only want the subset of data with valid values. In the above data, it is clear that some of the entries do not have elasticity.K_VRH data. So we will use the dropna method of the pandas DataFrame to get a new DataFrame with just valid data. Note that a lot of Pandas methods returns a new DataFrame. This ensures that you always have the original object to compare to. If you want to perform the operation in place, you can usually supply  `inplace=True` to the method."
   ]
  },
  {
   "cell_type": "code",
   "execution_count": 28,
   "metadata": {},
   "outputs": [
    {
     "name": "stdout",
     "output_type": "stream",
     "text": [
      "     pretty_formula  final_energy  band_gap  elasticity.K_VRH\n",
      "1              BaO2    -16.991508    2.1206              28.0\n",
      "2               BaO    -23.550004    2.3711              67.0\n",
      "5             Bi2O3    -28.415230    1.1772             117.0\n",
      "6              CeO2    -49.897720    0.6980             148.0\n",
      "7              CeO2    -51.753294    1.9556             132.0\n",
      "...             ...           ...       ...               ...\n",
      "2234            ZnO   -105.067224    0.5298             167.0\n",
      "2251            WO3   -151.123549    0.0000              89.0\n",
      "2253            WO3   -120.135441    1.8967              37.0\n",
      "2261            WO3   -120.093040    1.6755              50.0\n",
      "2267            WO2    -87.834801    0.0000             116.0\n",
      "\n",
      "[387 rows x 4 columns]\n"
     ]
    }
   ],
   "source": [
    "valid_data = df.dropna()\n",
    "print(valid_data)"
   ]
  },
  {
   "cell_type": "markdown",
   "metadata": {},
   "source": [
    "Seaborn works very well with Pandas DataFrames..."
   ]
  },
  {
   "cell_type": "code",
   "execution_count": 29,
   "metadata": {},
   "outputs": [
    {
     "data": {
      "image/png": "[encoded data removed]",
      "text/plain": [
       "<Figure size 432x288 with 1 Axes>"
      ]
     },
     "metadata": {
      "needs_background": "light"
     },
     "output_type": "display_data"
    },
    {
     "name": "stdout",
     "output_type": "stream",
     "text": [
      "\n"
     ]
    }
   ],
   "source": [
    "sns.scatterplot(x=\"band_gap\", y=\"elasticity.K_VRH\", data=valid_data);"
   ]
  },
  {
   "cell_type": "code",
   "execution_count": null,
   "metadata": {},
   "outputs": [],
   "source": []
  }
 ],
 "metadata": {
  "kernelspec": {
   "display_name": "Python 3 (ipykernel)",
   "language": "python",
   "name": "python3"
  },
  "language_info": {
   "codemirror_mode": {
    "name": "ipython",
    "version": 3
   },
   "file_extension": ".py",
   "mimetype": "text/x-python",
   "name": "python",
   "nbconvert_exporter": "python",
   "pygments_lexer": "ipython3",
   "version": "3.9.7"
  }
 },
 "nbformat": 4,
 "nbformat_minor": 2
}