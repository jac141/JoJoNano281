{
  "nbformat": 4,
  "nbformat_minor": 0,
  "metadata": {
    "anaconda-cloud": {},
    "kernelspec": {
      "display_name": "Python 3",
      "language": "python",
      "name": "python3"
    },
    "language_info": {
      "codemirror_mode": {
        "name": "ipython",
        "version": 3
      },
      "file_extension": ".py",
      "mimetype": "text/x-python",
      "name": "python",
      "nbconvert_exporter": "python",
      "pygments_lexer": "ipython3",
      "version": "3.6.5"
    },
    "colab": {
      "name": "PlottingExamples.ipynb",
      "provenance": []
    }
  },
  "cells": [
    {
      "cell_type": "markdown",
      "metadata": {
        "id": "JgmhAhU8deJR"
      },
      "source": [
        "# Intro to Python: Data Analysis\n",
        "Part of the workshop series presented by the [IDEA Student Center at UC San Diego](http://www.jacobsschool.ucsd.edu/student/).\n",
        "\n",
        "### Goals\n",
        "Learn the basics of Python (the programming language) for data analysis:\n",
        "- loading data from a file\n",
        "- plotting\n",
        "- vectorized calculations\n",
        "\n",
        "### Requirements\n",
        "- numpy = for loading data and vectorized calculations\n",
        "- matplotlib = for plotting"
      ]
    },
    {
      "cell_type": "code",
      "metadata": {
        "id": "7FKLM85OdeJS"
      },
      "source": [
        "# make the code compatible with both Python 2 and 3\n",
        "from __future__ import print_function, division"
      ],
      "execution_count": null,
      "outputs": []
    },
    {
      "cell_type": "markdown",
      "metadata": {
        "id": "L2cc8e-MdeJV"
      },
      "source": [
        "## 1) Loading packages\n",
        "Python is a general purpose language, which means it can be used for\n",
        "a wide variety of problems. However, that also means it is not set up\n",
        "automatically for engineering tasks (i.e. it's more like C/C++ than Matlab). Fortunately, Python has a great community and a large number\n",
        "of third-party packages have been created to allow users to solve engineering problems with Python (instead of Matlab). The two packages we'll focus on (which will help recreate most Matlab functionality) are:\n",
        "- [NumPy](http://www.numpy.org/)\n",
        "- [Matplotlib](http://matplotlib.org/)\n",
        "\n",
        "But first, we need to load these packages."
      ]
    },
    {
      "cell_type": "code",
      "metadata": {
        "id": "Q6N2RkccdeJW",
        "outputId": "f449beba-4dd0-42de-84d1-c2d8481b2906"
      },
      "source": [
        "# to load a package in Python (assuming it's installed), use the built-in\n",
        "# ``import`` command\n",
        "\n",
        "# load NumPy\n",
        "import numpy\n",
        "\n",
        "# check the version of numpy\n",
        "print( numpy.__version__ )"
      ],
      "execution_count": null,
      "outputs": [
        {
          "output_type": "stream",
          "text": [
            "1.14.3\n"
          ],
          "name": "stdout"
        }
      ]
    },
    {
      "cell_type": "markdown",
      "metadata": {
        "id": "IqDyQ1vjdeJZ"
      },
      "source": [
        "The numpy package has a lot of built-in code for performing common math-related programming tasks. Let's try a few out:"
      ]
    },
    {
      "cell_type": "code",
      "metadata": {
        "id": "ytLsH4MNdeJa",
        "outputId": "1eaaf35a-eabe-4195-912b-fc09c3ffb996"
      },
      "source": [
        "# the value of pi\n",
        "print( numpy.pi )"
      ],
      "execution_count": null,
      "outputs": [
        {
          "output_type": "stream",
          "text": [
            "3.141592653589793\n"
          ],
          "name": "stdout"
        }
      ]
    },
    {
      "cell_type": "code",
      "metadata": {
        "id": "P0bu2XK8deJc",
        "outputId": "6b394d3f-2a0c-4c0e-e4b6-680f33db194e"
      },
      "source": [
        "# cosine function\n",
        "print( numpy.cos(0) )"
      ],
      "execution_count": null,
      "outputs": [
        {
          "output_type": "stream",
          "text": [
            "1.0\n"
          ],
          "name": "stdout"
        }
      ]
    },
    {
      "cell_type": "code",
      "metadata": {
        "id": "As9ycdpCdeJe",
        "outputId": "b010367a-eb09-4627-e958-c238a0f6f80e"
      },
      "source": [
        "# create a vector of ones\n",
        "print( numpy.ones(5) )"
      ],
      "execution_count": null,
      "outputs": [
        {
          "output_type": "stream",
          "text": [
            "[1. 1. 1. 1. 1.]\n"
          ],
          "name": "stdout"
        }
      ]
    },
    {
      "cell_type": "markdown",
      "metadata": {
        "id": "Toj7tgFEdeJg"
      },
      "source": [
        "At this point, you may already be tired of typing ``numpy`` over and over. Well, you're not the only one. Which is why Python's ``import`` command has extra options, including the ability to assign an alias for a package name."
      ]
    },
    {
      "cell_type": "code",
      "metadata": {
        "id": "y288pT5AdeJh",
        "outputId": "5a2ee653-d2ff-4fba-8039-b0923f5bc8a3"
      },
      "source": [
        "# load the numpy package, but refer to it by the alias ``np``\n",
        "import numpy as np\n",
        "\n",
        "# now whenever you type ``np``, Python knows you mean ``numpy``\n",
        "\n",
        "# check the numpy version\n",
        "print( np.__version__ )\n",
        "\n",
        "# the value of pi\n",
        "print( np.pi )\n",
        "\n",
        "# sin(pi / 2)\n",
        "print( np.sin(np.pi / 2.0) )\n",
        "\n",
        "# Aaaawwww, so much nicer ^__^"
      ],
      "execution_count": null,
      "outputs": [
        {
          "output_type": "stream",
          "text": [
            "1.14.3\n",
            "3.141592653589793\n",
            "1.0\n"
          ],
          "name": "stdout"
        }
      ]
    },
    {
      "cell_type": "markdown",
      "metadata": {
        "id": "jYJ1SvUndeJi"
      },
      "source": [
        "## 2) Plotting data\n",
        "Now let's try plotting something. First we'll load the plotting package (matplotlib) and then we'll plot some sample data."
      ]
    },
    {
      "cell_type": "code",
      "metadata": {
        "id": "OivvDruMdeJj"
      },
      "source": [
        "# load a plotting library\n",
        "import matplotlib.pyplot as plt\n",
        "\n",
        "# make figures show up inside the notebook (instead of in\n",
        "# a separate window)\n",
        "%matplotlib inline"
      ],
      "execution_count": null,
      "outputs": []
    },
    {
      "cell_type": "code",
      "metadata": {
        "id": "fWNeR61CdeJl",
        "outputId": "b079cafb-43b5-4aac-81ee-c27159dec1f1"
      },
      "source": [
        "# a simple line plot\n",
        "\n",
        "# create some \"fake\" data\n",
        "x = [0, 1, 2, 3, 4, 5]\n",
        "y = [0, 1, 4, 9, 16, 25]\n",
        "\n",
        "# plot the data\n",
        "plt.plot(x, y)\n",
        "\n",
        "# show the plot\n",
        "plt.show()"
      ],
      "execution_count": null,
      "outputs": [
        {
          "output_type": "display_data",
          "data": {
            "image/png": "[encoded data removed]",
            "text/plain": [
              "<Figure size 432x288 with 1 Axes>"
            ]
          },
          "metadata": {
            "tags": []
          }
        }
      ]
    },
    {
      "cell_type": "code",
      "metadata": {
        "id": "3ZWqXpBCdeJn",
        "outputId": "e97c5b48-a182-4e9e-adfe-45619a0f79df"
      },
      "source": [
        "# let's do that again, but this time we'll try to make the plot look a\n",
        "# bit more professional by changing the colors, line thicknesses, etc.\n",
        "\n",
        "# create some \"fake\" data\n",
        "x = [0, 1, 2, 3, 4, 5]\n",
        "y = [0, 1, 4, 9, 16, 25]\n",
        "\n",
        "# plot the data\n",
        "plt.plot(x, y, color='green', linewidth=5.0)\n",
        "\n",
        "# add a label to the x-axis\n",
        "plt.xlabel('x')\n",
        "\n",
        "# add a label to the y-axis\n",
        "plt.ylabel('y')\n",
        "\n",
        "# show the plot\n",
        "plt.show()\n",
        "\n",
        "# try to further improve the plot:\n",
        "# - try other built-in colors (red, blue, green, etc.)\n",
        "# - or try using a custom color using HEX codes (e.g. \"#16a9c7\" is a blue-ish color)\n",
        "# - change the range of values shown on the y-axis with ``plt.ylim([y_min, y_max])``\n",
        "# - change the linestyle of the plot with ``linestyle='--'`` (dashed) or ``linestyle=':'`` (dotted)\n",
        "# - change the fontsize of the x-axis label with ``plt.xlabel('x', fontsize=18)``\n",
        "#\n",
        "# is there anything else you want to try changing?\n",
        "#"
      ],
      "execution_count": null,
      "outputs": [
        {
          "output_type": "display_data",
          "data": {
            "image/png": "[encoded data removed]",
            "text/plain": [
              "<Figure size 432x288 with 1 Axes>"
            ]
          },
          "metadata": {
            "tags": []
          }
        }
      ]
    },
    {
      "cell_type": "code",
      "metadata": {
        "id": "_8k_yjGBdeJp",
        "outputId": "0d97a2cc-083d-4495-f6bb-2b5361abd9c7"
      },
      "source": [
        "# matplotlib has other plot types built-in\n",
        "\n",
        "# create some random data\n",
        "# - pressure [atm]\n",
        "# - temperature [K]\n",
        "pressure = [1, 2, 3, 4, 5]\n",
        "temperature = [273, 303, 310, 350, 365]\n",
        "\n",
        "# example: scatter plot\n",
        "plt.scatter(pressure, temperature, color= 'red')\n",
        "plt.xlabel('Pressure (atm)')\n",
        "plt.ylabel('Temperature (K)')\n",
        "plt.show()\n",
        "\n",
        "# example: bar plot\n",
        "plt.bar(pressure, temperature, color='purple')\n",
        "plt.xlabel('Pressure (atm)')\n",
        "plt.ylabel('Temperature (K)')\n",
        "plt.show()\n",
        "\n",
        "# NOTE: each plot type has its own set of possible customizations, but\n",
        "# there is overlap between them (e.g. you can change the color of the bar plot\n",
        "# with ``color='red'``)\n",
        "#"
      ],
      "execution_count": null,
      "outputs": [
        {
          "output_type": "display_data",
          "data": {
            "image/png": "[encoded data removed]",
            "text/plain": [
              "<Figure size 432x288 with 1 Axes>"
            ]
          },
          "metadata": {
            "tags": []
          }
        },
        {
          "output_type": "display_data",
          "data": {
            "image/png": "[encoded data removed]",
            "text/plain": [
              "<Figure size 432x288 with 1 Axes>"
            ]
          },
          "metadata": {
            "tags": []
          }
        }
      ]
    },
    {
      "cell_type": "markdown",
      "metadata": {
        "id": "F3PKPG0IdeJs"
      },
      "source": [
        "## 3) Loading data files\n",
        "Now that we can load packages and plot, let's try working with some data."
      ]
    },
    {
      "cell_type": "markdown",
      "metadata": {
        "id": "pgSwDJz-deJs"
      },
      "source": [
        "### 3.1) Ice cream sales vs shark attacks\n",
        "Let's compare data on ice cream sales and shark attacks."
      ]
    },
    {
      "cell_type": "code",
      "metadata": {
        "id": "1eJUVU7pdeJt"
      },
      "source": [
        "# to make things simple, we're going to use numpy to load the data\n",
        "\n",
        "# load the data file\n",
        "# - first column = number of ice cream sales\n",
        "# - second column = number of shark attacks\n",
        "#\n",
        "data = np.genfromtxt('ice_cream_vs_shark_attacks.csv',\n",
        "                     # columns are separate by commas (csv = comma separated values)\n",
        "                     delimiter=',',\n",
        "                     \n",
        "                     # the first row of the file is the column names\n",
        "                     # (i.e. the first row isn't data and so we can skip it)\n",
        "                     skip_header=1)\n",
        "\n",
        "# as a one liner\n",
        "#data = np.genfromtxt('ice_cream_vs_shark_attacks.csv', delimiter=',', skip_header=1)"
      ],
      "execution_count": null,
      "outputs": []
    },
    {
      "cell_type": "code",
      "metadata": {
        "id": "IT3S4b6cdeJv",
        "outputId": "369c1626-f79c-4988-a422-c25b368db6d3"
      },
      "source": [
        "# view the data\n",
        "print( data )"
      ],
      "execution_count": null,
      "outputs": [
        {
          "output_type": "stream",
          "text": [
            "[[30.  1.]\n",
            " [33.  2.]\n",
            " [43.  4.]\n",
            " [58.  8.]\n",
            " [63.  6.]\n",
            " [79.  9.]\n",
            " [79. 11.]\n",
            " [90. 14.]\n",
            " [92. 16.]\n",
            " [93. 17.]\n",
            " [96. 21.]\n",
            " [98. 19.]]\n"
          ],
          "name": "stdout"
        }
      ]
    },
    {
      "cell_type": "code",
      "metadata": {
        "id": "FY-30QeLdeJx",
        "outputId": "f7eb10f7-6b2d-4646-9571-2a297f0ddae2"
      },
      "source": [
        "# check the length of the data\n",
        "print( len(data) )"
      ],
      "execution_count": null,
      "outputs": [
        {
          "output_type": "stream",
          "text": [
            "12\n"
          ],
          "name": "stdout"
        }
      ]
    },
    {
      "cell_type": "code",
      "metadata": {
        "id": "I0AQanHCdeJ0",
        "outputId": "299fb27f-659d-4b52-9937-30b6414ad9eb"
      },
      "source": [
        "# NOTE: numpy has a built-in parameter to see the dimensions of\n",
        "# the array (very useful is you're working with 2D, 3D, etc. data)\n",
        "print( data.shape )"
      ],
      "execution_count": null,
      "outputs": [
        {
          "output_type": "stream",
          "text": [
            "(12, 2)\n"
          ],
          "name": "stdout"
        }
      ]
    },
    {
      "cell_type": "code",
      "metadata": {
        "id": "uRuztboodeJ2",
        "outputId": "0ff1e04a-e8cc-4fbe-9ec9-b445ebd54e74"
      },
      "source": [
        "# check the type used to store the data\n",
        "print( type(data) )"
      ],
      "execution_count": null,
      "outputs": [
        {
          "output_type": "stream",
          "text": [
            "<class 'numpy.ndarray'>\n"
          ],
          "name": "stdout"
        }
      ]
    },
    {
      "cell_type": "code",
      "metadata": {
        "id": "s-yFByu0deJ5"
      },
      "source": [
        "# to make things easier, we're going to split the data into\n",
        "# two variables\n",
        "\n",
        "# select all rows, but only the first column (column 0)\n",
        "ice_cream = data[:, 0]\n",
        "\n",
        "# select all rows, but only the second column (column 1)\n",
        "shark_attacks = data[:, 1]"
      ],
      "execution_count": null,
      "outputs": []
    },
    {
      "cell_type": "code",
      "metadata": {
        "id": "5-Uo3DMddeJ9",
        "outputId": "aee5c112-7d11-493a-b6d5-94a2cf4935e8"
      },
      "source": [
        "# create a quick plot of the data\n",
        "\n",
        "# let's do a scatter plot\n",
        "plt.scatter(ice_cream, shark_attacks, color='red')\n",
        "\n",
        "# add labels to the x and y axes\n",
        "plt.xlabel('ice_cream')\n",
        "plt.ylabel('shark_attackes')\n",
        "\n",
        "# show the plot\n",
        "plt.show()"
      ],
      "execution_count": null,
      "outputs": [
        {
          "output_type": "display_data",
          "data": {
            "image/png": "[encoded data removed]",
            "text/plain": [
              "<Figure size 432x288 with 1 Axes>"
            ]
          },
          "metadata": {
            "tags": []
          }
        }
      ]
    },
    {
      "cell_type": "markdown",
      "metadata": {
        "id": "813HROWCdeKA"
      },
      "source": [
        "**Question**: Does this mean ice cream makes people delicious to shark attacks? Or that shark attacks cause you have a craving for Ben & Jerry's?"
      ]
    },
    {
      "cell_type": "markdown",
      "metadata": {
        "id": "n7q8YxR8deKB"
      },
      "source": [
        "### 3.2) Lab data\n",
        "Now let's try a more realistic example to what you would do in an engineering lab class."
      ]
    },
    {
      "cell_type": "code",
      "metadata": {
        "id": "YelZz_TudeKC"
      },
      "source": [
        "# First, we'll load a data file that has the results from an experiment\n",
        "\n",
        "# consumption rate of oxygen during combustion\n",
        "#\n",
        "# load experimental data from a file (2 columns)\n",
        "# - column 0 = temperature [K]\n",
        "# - column 1 = consumption rate [moles/(s * m^2)]\n",
        "#\n",
        "data = np.genfromtxt('combustion.csv', delimiter=',', skip_header=1)\n",
        "\n",
        "# temperature [K]\n",
        "T = data[:, 0]\n",
        "\n",
        "# consumption rate (J) [moles/(s * m^2)]\n",
        "J = data[:, 1]"
      ],
      "execution_count": null,
      "outputs": []
    },
    {
      "cell_type": "code",
      "metadata": {
        "id": "--OyepxbdeKJ",
        "outputId": "1c34fe1a-1e33-438b-cb12-e7873b6327c9"
      },
      "source": [
        "# Plot the temperature vs consumption rate of oxygen\n",
        "\n",
        "# use scatter plot since these are data points from an \n",
        "# experiment\n",
        "plt.scatter(T, J, color='black')\n",
        "\n",
        "# add labels\n",
        "plt.xlabel('T (K)')\n",
        "plt.ylabel('J (s*m^2)')\n",
        "\n",
        "# show the plot\n",
        "plt.show()"
      ],
      "execution_count": null,
      "outputs": [
        {
          "output_type": "display_data",
          "data": {
            "image/png": "[encoded data removed]",
            "text/plain": [
              "<Figure size 432x288 with 1 Axes>"
            ]
          },
          "metadata": {
            "tags": []
          }
        }
      ]
    },
    {
      "cell_type": "markdown",
      "metadata": {
        "collapsed": true,
        "id": "iLqACpvBdeKN"
      },
      "source": [
        "Now let's compare the experimental results (the data we just loaded and plotted) to a theoretical model.\n",
        "\n",
        "**NOTE**: due to time constraints, we will only compare the theoretical and experimental results visually. In a real scenario, you should use statistical metrics to determine how well the theory and data agree."
      ]
    },
    {
      "cell_type": "markdown",
      "metadata": {
        "id": "ojEHiDMSdeKO"
      },
      "source": [
        "The consumption rate of oxygen for this experimental setup is described\n",
        "by the following equation:\n",
        "\n",
        "$$\n",
        "J = c D_{12} \\frac{1}{r_0} ,\n",
        "$$\n",
        "\n",
        "where $D_{12}$ = 1.71E-4 [m$^2$/s], $r_0$ = 0.001 [m] (i.e. 1 mm), and $c$ [mol/m$^3$] is calculated as:\n",
        "\n",
        "$$\n",
        "c = \\frac{p}{R T} ,\n",
        "$$\n",
        "where $p$ is the pressure (10135.0 [Pa]), $R$ = 8.314 J/(K * mol), and $T$ [K] is the temperature."
      ]
    },
    {
      "cell_type": "code",
      "metadata": {
        "id": "geEtBGVNdeKO"
      },
      "source": [
        "# knowns:\n",
        "# - p = 10135.0 Pa\n",
        "# - R = 8.314 J/(K*mol)\n",
        "# - r0 = 0.001 m\n",
        "# - D12 = 1.71E-4 m^2/s\n",
        "\n",
        "# need to calculate:\n",
        "# - c in [moles/m^3] for a range of temperatures [K]\n",
        "# - J in [moles/(m^2 * s)]"
      ],
      "execution_count": null,
      "outputs": []
    },
    {
      "cell_type": "code",
      "metadata": {
        "id": "97PcY_bIdeKQ"
      },
      "source": [
        "# define the knowns as variables:\n",
        "\n",
        "# pressure [Pa]\n",
        "p = 10135.0\n",
        "\n",
        "# ideal gas constant [J/(mol*K)]\n",
        "R = 8.314\n",
        "\n",
        "# radius [m]\n",
        "r0 = 0.001\n",
        "\n",
        "# mass diffusivity [m^2/s]\n",
        "D12 = 1.71E-4"
      ],
      "execution_count": null,
      "outputs": []
    },
    {
      "cell_type": "code",
      "metadata": {
        "id": "ZXV2q_bsdeKS",
        "outputId": "8ddbe7a9-f9b9-47b2-a99c-b6ef7386f812"
      },
      "source": [
        "# calculate c [kmol/m^3] for a range of temperatures [K]\n",
        "\n",
        "# create a vector of temperatures [K]\n",
        "#\n",
        "#   np.arange(min value, max value, step size)\n",
        "#\n",
        "T_theory = np.arange(1300, 1800, 100)\n",
        "\n",
        "# calculate c for the range of temperatures\n",
        "c = p / (R * T_theory)\n",
        "\n",
        "# then calculate J for a range of temperatures\n",
        "# using the equations above\n",
        "J_theory = c*D12/r0\n",
        "\n",
        "# check the results with a plot\n",
        "plt.plot(T_theory, J_theory)\n",
        "plt.show()"
      ],
      "execution_count": null,
      "outputs": [
        {
          "output_type": "display_data",
          "data": {
            "image/png": "[encoded data removed]",
            "text/plain": [
              "<Figure size 432x288 with 1 Axes>"
            ]
          },
          "metadata": {
            "tags": []
          }
        }
      ]
    },
    {
      "cell_type": "code",
      "metadata": {
        "id": "MLs9lQlMdeKV",
        "outputId": "67a58eaa-e65f-4264-ee9e-bed7bd405d07"
      },
      "source": [
        "# now let's plot the theoretical results against the experimental\n",
        "\n",
        "# plot the experimental results\n",
        "plt.scatter(T, J, color='red')\n",
        "\n",
        "# plot the theoretical results\n",
        "plt.plot(T_theory, J_theory, color='black')\n",
        "\n",
        "# show the plot\n",
        "plt.show()\n",
        "\n",
        "\n",
        "# now that we have a basic plot, try to improve the formatting\n",
        "# - colors\n",
        "# - line styles and thicknesses\n",
        "# - text labels\n",
        "# - font sizes\n",
        "#"
      ],
      "execution_count": null,
      "outputs": [
        {
          "output_type": "display_data",
          "data": {
            "image/png": "[encoded data removed]",
            "text/plain": [
              "<Figure size 432x288 with 1 Axes>"
            ]
          },
          "metadata": {
            "tags": []
          }
        }
      ]
    },
    {
      "cell_type": "code",
      "metadata": {
        "id": "RkHDpJeIdeKX"
      },
      "source": [
        ""
      ],
      "execution_count": null,
      "outputs": []
    }
  ]
}