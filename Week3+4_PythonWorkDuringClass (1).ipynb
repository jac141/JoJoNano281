{
  "nbformat": 4,
  "nbformat_minor": 0,
  "metadata": {
    "colab": {
      "name": "Week3+4_PythonWorkDuringClass.ipynb",
      "provenance": []
    },
    "kernelspec": {
      "name": "python3",
      "display_name": "Python 3"
    },
    "language_info": {
      "name": "python"
    }
  },
  "cells": [
    {
      "cell_type": "code",
      "metadata": {
        "id": "R3nAz-mrK6GT"
      },
      "source": [
        "!pip3 install ColabTurtle "
      ],
      "execution_count": null,
      "outputs": []
    },
    {
      "cell_type": "code",
      "metadata": {
        "id": "myM_u49GFQPi"
      },
      "source": [
        "import ColabTurtle.Turtle as shelly\n",
        "shelly.initializeTurtle(initial_speed=7)"
      ],
      "execution_count": null,
      "outputs": []
    },
    {
      "cell_type": "code",
      "metadata": {
        "colab": {
          "base_uri": "https://localhost:8080/",
          "height": 164
        },
        "id": "9wfRHaOUMA5q",
        "outputId": "4264a509-4616-44f6-a9ea-c1d450eab477"
      },
      "source": [
        "x = int(\"string\")"
      ],
      "execution_count": null,
      "outputs": [
        {
          "output_type": "error",
          "ename": "ValueError",
          "evalue": "ignored",
          "traceback": [
            "\u001b[0;31m---------------------------------------------------------------------------\u001b[0m",
            "\u001b[0;31mValueError\u001b[0m                                Traceback (most recent call last)",
            "\u001b[0;32m<ipython-input-2-da89abf3488b>\u001b[0m in \u001b[0;36m<module>\u001b[0;34m()\u001b[0m\n\u001b[0;32m----> 1\u001b[0;31m \u001b[0mx\u001b[0m \u001b[0;34m=\u001b[0m \u001b[0mint\u001b[0m\u001b[0;34m(\u001b[0m\u001b[0;34m\"string\"\u001b[0m\u001b[0;34m)\u001b[0m\u001b[0;34m\u001b[0m\u001b[0;34m\u001b[0m\u001b[0m\n\u001b[0m",
            "\u001b[0;31mValueError\u001b[0m: invalid literal for int() with base 10: 'string'"
          ]
        }
      ]
    },
    {
      "cell_type": "code",
      "metadata": {
        "colab": {
          "base_uri": "https://localhost:8080/"
        },
        "id": "YdpjW-ccMEv4",
        "outputId": "00f8ab40-f316-4bd1-b2f4-fb776d42c9b1"
      },
      "source": [
        "x = repr(\"string\")\n",
        "try:\n",
        "    print(\"this code might raise an error\")\n",
        "    print(x)\n",
        "except NameError:\n",
        "    print(\"Variable is not defined\")\n",
        "except:\n",
        "    print(\"Something else went wrong\")\n",
        "else:\n",
        "  print(\"nothing went wrong\")\n",
        "finally:\n",
        "  print(\"We are all done here\")"
      ],
      "execution_count": null,
      "outputs": [
        {
          "output_type": "stream",
          "text": [
            "this code might raise an error\n",
            "'string'\n",
            "nothing went wrong\n",
            "We are all done here\n"
          ],
          "name": "stdout"
        }
      ]
    },
    {
      "cell_type": "code",
      "metadata": {
        "colab": {
          "base_uri": "https://localhost:8080/",
          "height": 198
        },
        "id": "6C2a3io8Of8g",
        "outputId": "745db417-c0c9-4c35-a359-b523eb347d11"
      },
      "source": [
        "x = \"hello\"\n",
        "#x.is_integer()\n",
        "\n",
        "if not type(x) is int:\n",
        "#  raise ValueError(\"only integers are allowed\")"
      ],
      "execution_count": null,
      "outputs": [
        {
          "output_type": "error",
          "ename": "ValueError",
          "evalue": "ignored",
          "traceback": [
            "\u001b[0;31m---------------------------------------------------------------------------\u001b[0m",
            "\u001b[0;31mValueError\u001b[0m                                Traceback (most recent call last)",
            "\u001b[0;32m<ipython-input-10-2a8752960aa5>\u001b[0m in \u001b[0;36m<module>\u001b[0;34m()\u001b[0m\n\u001b[1;32m      2\u001b[0m \u001b[0;34m\u001b[0m\u001b[0m\n\u001b[1;32m      3\u001b[0m \u001b[0;32mif\u001b[0m \u001b[0;32mnot\u001b[0m \u001b[0mtype\u001b[0m\u001b[0;34m(\u001b[0m\u001b[0mx\u001b[0m\u001b[0;34m)\u001b[0m \u001b[0;32mis\u001b[0m \u001b[0mint\u001b[0m\u001b[0;34m:\u001b[0m\u001b[0;34m\u001b[0m\u001b[0;34m\u001b[0m\u001b[0m\n\u001b[0;32m----> 4\u001b[0;31m   \u001b[0;32mraise\u001b[0m \u001b[0mValueError\u001b[0m\u001b[0;34m(\u001b[0m\u001b[0;34m\"only integers are allowed\"\u001b[0m\u001b[0;34m)\u001b[0m\u001b[0;34m\u001b[0m\u001b[0;34m\u001b[0m\u001b[0m\n\u001b[0m",
            "\u001b[0;31mValueError\u001b[0m: only integers are allowed"
          ]
        }
      ]
    },
    {
      "cell_type": "code",
      "metadata": {
        "colab": {
          "base_uri": "https://localhost:8080/"
        },
        "id": "zxc6m0G9LpsA",
        "outputId": "5b44e8e9-edb8-4a5a-e291-da2c25bb1ffe"
      },
      "source": [
        "#Finding a motif in DNA (BIOLOGY PROBLEM)\n",
        "\n",
        "def subs(string1, string2):\n",
        "  loc = []\n",
        "  for i in range(len(string1)): 0, number\n",
        "     if string2 == string1[i: i+len(string2)]:\n",
        "       loc.append(i+1)\n",
        "  return loc\n",
        "\n",
        "if __name__ == \"__main__\":\n",
        "    with open(\"../data/rosalind_subs.txt\", 'r') as f:\n",
        "        string1 = f.readline().strip()\n",
        "        string2 = f.readline().strip()\n",
        "    loc = subs(string1, string2)\n",
        "    for i in loc:\n",
        "        print(i, end=\" \")\n",
        "\n",
        "Finding a Motif in DNA\n",
        "url: http://rosalind.info/problems/subs/\n",
        "\n",
        "s1 = \"GATATATGCATATACTT\"\n",
        "s2 = \"ATAT\"\n",
        "\n",
        "test = subs(s1,s2)\n",
        "test"
      ],
      "execution_count": null,
      "outputs": [
        {
          "output_type": "execute_result",
          "data": {
            "text/plain": [
              "[2, 4, 10]"
            ]
          },
          "metadata": {
            "tags": []
          },
          "execution_count": 3
        }
      ]
    },
    {
      "cell_type": "code",
      "metadata": {
        "id": "Lw4iyBazMbhY",
        "colab": {
          "base_uri": "https://localhost:8080/"
        },
        "outputId": "324c4ce8-d026-4c2e-c411-79331f3de5f0"
      },
      "source": [
        "#Create A Class \n",
        "#Everything in python is an object\n",
        "#Every object has properties and methods associated with that object\n",
        "#Class is object Constructor ... like a blue print for creating objects\n",
        "\n",
        "class MyClass:\n",
        "  x = 5 #property\n",
        "\n",
        "print(MyClass)\n",
        "\n",
        "p1 = MyClass() #now the object is called p1\n",
        "print(p1.x)    #bc the only thing in our class is just the value of x thats the only thing we can really \"do\""
      ],
      "execution_count": null,
      "outputs": [
        {
          "output_type": "stream",
          "text": [
            "<class '__main__.MyClass'>\n",
            "5\n"
          ],
          "name": "stdout"
        }
      ]
    },
    {
      "cell_type": "code",
      "metadata": {
        "colab": {
          "base_uri": "https://localhost:8080/"
        },
        "id": "RUYNlpSKk8jI",
        "outputId": "7da0df88-f340-4f4a-cbd1-9bbf4a142934"
      },
      "source": [
        "#Now we want to add init functions \n",
        "#dunder methods __int__() so they are called dunder methods bc of the double underscore before and after\n",
        "#all classes have the __init__() function bc its how you initiate the class\n",
        "#what it is used for is to assign object properties or other operations necessary at the beginning\n",
        "#keyword \"self\" represents the instance of the class \n",
        "#by using that we can access the attributes and methods of the class\n",
        "#it binds the binds the attributes witht the given arguments \n",
        "# SELF is always pointing to the current object we dont use @ to respond to instances\n",
        "\n",
        "class check():\n",
        "  def __init__(self):\n",
        "    print(\"Address of self = \",id(self))\n",
        "\n",
        "obj = check()\n",
        "print(\"Address of class object = \", id(obj))\n",
        "\n",
        "\n",
        "\n",
        "class Person:\n",
        "  def __init__(self, name, age):\n",
        "    self.name = name\n",
        "    self.age = age\n",
        "\n",
        "  def myfunc(self):\n",
        "    print(\"Hello my name is \" + self.name)\n",
        "\n",
        "  \n",
        "\n",
        "p1 = Person(\"JoJo\", 29)\n",
        "\n",
        "p1.myfunc()\n",
        "\n",
        "p1.age = 40\n",
        "print(p1.age)\n",
        "print(p1.name)\n",
        "\n",
        "del p1.age\n",
        "p1.age = 29\n",
        "print(p1.age)\n",
        "print(p1.name)\n"
      ],
      "execution_count": null,
      "outputs": [
        {
          "output_type": "stream",
          "text": [
            "Address of self =  139679543142096\n",
            "Address of class object =  139679543142096\n",
            "Hello my name is JoJo\n",
            "40\n",
            "JoJo\n",
            "29\n",
            "JoJo\n"
          ],
          "name": "stdout"
        }
      ]
    },
    {
      "cell_type": "code",
      "metadata": {
        "colab": {
          "base_uri": "https://localhost:8080/"
        },
        "id": "-GwU4yzdqq4u",
        "outputId": "21db8d62-aef4-4310-c944-9b4333bca63e"
      },
      "source": [
        "#the init binds the attribute to the argument and as as the first argument is the one doing the binding you can call it whatever you want\n",
        "# following initation its important to name the object/function inputs with self that could get confusing but it is important to know that \n",
        "#once youve the attribute to the input you just to be consistent inside of objects and functions\n",
        "class Person:\n",
        "  def __init__(silly, name, age):\n",
        "    silly.name = name\n",
        "    silly.age = age\n",
        "    silly.name = []\n",
        "\n",
        "  def myfunc(abc):\n",
        "    print(\"Hello my name is \" + abc.name)\n",
        "\n",
        "p1 = Person(\"JoJo\", 29)\n",
        "\n",
        "p1.myfunc()"
      ],
      "execution_count": null,
      "outputs": [
        {
          "output_type": "stream",
          "text": [
            "Hello my name is JoJo\n"
          ],
          "name": "stdout"
        }
      ]
    },
    {
      "cell_type": "code",
      "metadata": {
        "id": "VrRHJphRu2mg"
      },
      "source": [
        "class Person2:\n",
        "  pass #prevent empty classes from getting errors \n",
        "  #but idk how many empty classes you will be making\n",
        "  "
      ],
      "execution_count": null,
      "outputs": []
    },
    {
      "cell_type": "code",
      "metadata": {
        "colab": {
          "base_uri": "https://localhost:8080/"
        },
        "id": "5nrkIyfyvtoO",
        "outputId": "991e5a6f-f100-4cf8-966d-c726c3bb9f81"
      },
      "source": [
        "class Person2:\n",
        "  def __init__(self, first, last):\n",
        "    self.firstname = first\n",
        "    self.lastname = last\n",
        "  \n",
        "  def printname(self):\n",
        "    print('Hello my name is ', self.firstname, self.lastname)\n",
        "\n",
        "x = Person2(\"JoJo\", \"Campbell\")\n",
        "x.printname()\n",
        "\n",
        "\n",
        "class Student(Person2):\n",
        "  def __init__(self, fname, lname, year):\n",
        "    #add new properties here\n",
        "    #Person2.__init__(self, first, last)\n",
        "    super().__init__(fname, lname) #makes it inherit all of the methods from the parent class\n",
        "    self.graduationyear = year\n",
        "\n",
        "  def welcome(self):\n",
        "    print(\"Welcome\", self.firstname, self.lastname, \"to the class of\", self.graduationyear)\n",
        "\n",
        "#x2 = Student(\"Mike\", \"Jones\")\n",
        "#x2.printname()\n",
        "#print(x2.graduationyear)\n",
        "#print(x.graduationyear)\n",
        "\n",
        "x3 = Student(\"Anika\", \"Morohen\", 2021)\n",
        "x3.printname()\n",
        "x3.welcome()"
      ],
      "execution_count": null,
      "outputs": [
        {
          "output_type": "stream",
          "text": [
            "Hello my name is  JoJo Campbell\n",
            "Hello my name is  Anika Morohen\n",
            "Welcome Anika Morohen to the class of 2021\n"
          ],
          "name": "stdout"
        }
      ]
    },
    {
      "cell_type": "code",
      "metadata": {
        "id": "6lVilB_X1tuM"
      },
      "source": [
        "def func(seq,n):\n",
        "  if n > 0:\n",
        "    return seq[-n:]\n",
        "  return []"
      ],
      "execution_count": null,
      "outputs": []
    },
    {
      "cell_type": "code",
      "metadata": {
        "id": "nxXUs_UgJ-Q5",
        "colab": {
          "base_uri": "https://localhost:8080/"
        },
        "outputId": "5e86ad35-c585-4bb2-dc31-fa4c035e4e39"
      },
      "source": [
        "def RNA(DNA):\n",
        "  return DNA.replace(\"T\", \"U\")\n",
        "\n",
        "\n",
        "def RNA(string):\n",
        "  turn my string into a list \n",
        "  len of the list\n",
        "  check to see whether the element was T\n",
        "  replace U\n",
        "\n",
        "DNA = \"GATGGAACTTGACTACGTAAATT\"\n",
        "\n",
        "x = RNA(DNA)\n",
        "print(x)"
      ],
      "execution_count": null,
      "outputs": [
        {
          "output_type": "stream",
          "text": [
            "GAUGGAACUUGACUACGUAAAUU\n"
          ],
          "name": "stdout"
        }
      ]
    },
    {
      "cell_type": "code",
      "metadata": {
        "id": "zS5QdIC5PmGR"
      },
      "source": [
        "from Bio import SeqIO\n",
        "\n",
        "def short_seq(seq):\n",
        "  min_len = 10000\n",
        "  short_seq = \"\"\n",
        "  for in seq.keys():\n",
        "    if len(seq[i]) < min_len:\n",
        "      min_len = len(seq[i])\n",
        "      short_seq = seq[i]\n",
        "  return short_seq\n",
        "\n",
        "def shared_motif(seq):\n",
        "  s_seq = short_seq(seq)\n",
        "  motif = set()\n",
        "  for i in range(len(s_seq)):\n",
        "    for j in range(i+1, len(s_seq)+1):\n",
        "      motof.add(s_seq[i:j])\n",
        "  for s in seq.values():\n",
        "    update_motif = list(motif)\n",
        "    \n"
      ],
      "execution_count": null,
      "outputs": []
    },
    {
      "cell_type": "code",
      "metadata": {
        "colab": {
          "base_uri": "https://localhost:8080/"
        },
        "id": "Cnv5BGreRQvF",
        "outputId": "37c5d4ee-7fdb-4d42-aeb9-4c346a12f532"
      },
      "source": [
        "def LCSM(string1, string2):\n",
        "  answer = \"\"\n",
        "  len1, len2 = len(string1), len(string2)\n",
        "  for i in range(len1):\n",
        "    match = \"\"\n",
        "    for j in range(len2):\n",
        "      if (i + j < len1 and string1[i + j] == string1[j]):\n",
        "        match += string2[j]\n",
        "      else:\n",
        "        if (len(match) > len(answer)): answer = match\n",
        "        match = \"\"\n",
        "  return answer\n",
        "\n",
        "\n",
        "print(LCSM(\"GATTACA\",\"TAGACCA\"))\n",
        "\n",
        "\n"
      ],
      "execution_count": null,
      "outputs": [
        {
          "output_type": "stream",
          "text": [
            "G\n"
          ],
          "name": "stdout"
        }
      ]
    },
    {
      "cell_type": "markdown",
      "metadata": {
        "id": "qIeepu9fVQU1"
      },
      "source": [
        ""
      ]
    },
    {
      "cell_type": "code",
      "metadata": {
        "colab": {
          "base_uri": "https://localhost:8080/"
        },
        "id": "4RIZtpYsU_d5",
        "outputId": "07eef9a4-1fb7-4dc9-c628-040ae65fe75c"
      },
      "source": [
        "def longestSubstringFinder(string1, string2):\n",
        "    answer = \"\"\n",
        "    len1, len2 = len(string1), len(string2)\n",
        "    for i in range(len1):\n",
        "        for j in range(len2):\n",
        "            lcs_temp=0\n",
        "            match=''\n",
        "            while ((i+lcs_temp < len1) and (j+lcs_temp<len2) and string1[i+lcs_temp] == string2[j+lcs_temp]):\n",
        "                match += string2[j+lcs_temp]\n",
        "                lcs_temp+=1\n",
        "            if (len(match) > len(answer)):\n",
        "                answer = match\n",
        "    return answer\n",
        "\n",
        "print(longestSubstringFinder(\"dd apple pie available\", \"apple pies\"))\n",
        "print(longestSubstringFinder(\"cov_basic_as_cov_x_gt_y_rna_genes_w1000000\", \"cov_rna15pcs_as_cov_x_gt_y_rna_genes_w1000000\"))\n",
        "print(longestSubstringFinder(\"GATTACA\", \"TAGACCA\"))\n",
        "#print longestSubstringFinder(\"apples\", \"apples\")\n",
        "\n"
      ],
      "execution_count": null,
      "outputs": [
        {
          "output_type": "stream",
          "text": [
            "apple pie\n",
            "_as_cov_x_gt_y_rna_genes_w1000000\n",
            "GA\n"
          ],
          "name": "stdout"
        }
      ]
    },
    {
      "cell_type": "code",
      "metadata": {
        "id": "df1vW9qMa9Ub"
      },
      "source": [
        "def get_word_codes(words):\n",
        "  return {\n",
        "      word: [ord(c) for c in word]\n",
        "      for word in words\n",
        "  }"
      ],
      "execution_count": null,
      "outputs": []
    }
  ]
}