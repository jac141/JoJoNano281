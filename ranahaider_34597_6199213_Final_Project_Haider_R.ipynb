{
  "nbformat": 4,
  "nbformat_minor": 0,
  "metadata": {
    "colab": {
      "name": "ranahaider_34597_6199213_Final Project Haider R.ipynb",
      "provenance": []
    },
    "kernelspec": {
      "name": "python3",
      "display_name": "Python 3"
    },
    "language_info": {
      "name": "python"
    }
  },
  "cells": [
    {
      "cell_type": "markdown",
      "metadata": {
        "id": "d1a9CAfvoaVS"
      },
      "source": [
        "My name is Haider and I like drawing and playing video games. I chose to create a video game since I also enjoy playing video games."
      ]
    },
    {
      "cell_type": "code",
      "metadata": {
        "id": "kksx266dotPM"
      },
      "source": [
        "import time\n",
        "import random\n",
        "\n",
        "def ruinDelver():\n",
        "  print(\"You are an adventurer exploring some abandoned ruins from an ancient civilization.\")\n",
        "  print(\"You may take one item to bring with you on your adventure.\")\n",
        "  firstItem = input(\"Do you take, rope (r), shield (sh), or sword (s)? \")\n",
        "\n",
        "  print(\"You hike up a mountain where a cave is waiting, and inside you see a pit.\")\n",
        "  time.sleep(1)\n",
        "  print(\"Looking to the side of the pit, you see a staircase. When you reach the bottom you look around and see...\")\n",
        "  time.sleep(2)\n",
        "  print(\"an underground city!\")\n",
        "  time.sleep(1)\n",
        "  print(\"You continue forward into the city, passing by ancient stone structures that tower over you.\")\n",
        "  time.sleep(1)\n",
        "  print(\"Eventually you come across a large building in the center.\")\n",
        "  time.sleep(1)\n",
        "  print(\"Going inside, you realize that it is an ancient crypt!\")\n",
        "  time.sleep(1)\n",
        "  print(\"There is a staircase leading down and at the bottom of it, the path seems to split in three different directions.\")\n",
        "  time.sleep(2)\n",
        "  direction = input(\"Which direction do you go in? Forward (f), left (l), or right(r)? \")\n",
        "\n",
        "  if direction == \"f\" or direction == \"Forward\" or direction == \"forward\":\n",
        "    print(\"You decide to keep moving forward, eventually coming across a massive hole in the ground.\")\n",
        "    time.sleep(2)\n",
        "    if firstItem == \"r\":\n",
        "      print(\"You use your rope to go down the hole.\")\n",
        "      time.sleep(1)\n",
        "      print(\"At the bottom, you find a coffin that seems to have opened when it fell down the hole\")\n",
        "      time.sleep(1)\n",
        "      print(\"and strangely you see no body, however you do find gold and gems!\")\n",
        "      time.sleep(1)\n",
        "      print(\"You head back home, and make the most of your newfound riches.\")\n",
        "      time.sleep(1)\n",
        "      print(\"You have won the game!\")\n",
        "    else:\n",
        "      print(\"Without a way to go across the hole you decide to jump for it...\")\n",
        "      time.sleep(2)\n",
        "      print(\"and as you are falling down the hole you realize that it was probably too big to cross.\")\n",
        "      time.sleep(1)\n",
        "      print(\"You have lost the game.\")\n",
        "  elif direction == \"l\":\n",
        "    print(\"Heading left, you pass by rows and rows of coffins, which are probably filled not with riches\")\n",
        "    time.sleep(1)\n",
        "    print(\"At the end, you find a door, and when you open it you find...\")\n",
        "    time.sleep(2)\n",
        "    print(\"a trap room! Arrows seem to go whizzing by throughout the hallway.\")\n",
        "    if firstItem == \"sh\":\n",
        "      time.sleep(1)\n",
        "      print(\"Luckily, you have something that could protect you from those arrows!\")\n",
        "      time.sleep(1)\n",
        "      print(\"You hold up your shield as you go down the hallway.\")\n",
        "      time.sleep(2)\n",
        "      print(\"Seems those arrows were there for a good reason.\")\n",
        "      time.sleep(1)\n",
        "      print(\"That's because you found a sword that seems to pulse with arcane power!\")\n",
        "      time.sleep(2)\n",
        "      print(\"You head back home, creating a dictatorship with your might and power.\")\n",
        "      time.sleep(2)\n",
        "      print(\"You have won the game?\")\n",
        "    else:\n",
        "      print(\"What's the worst that can happen? Which is the last thought that goes through your head moments before disaster.\")\n",
        "      time.sleep(1)\n",
        "      print(\"You have lost the game.\")\n",
        "  else:\n",
        "    print(\"Heading right, you pass rows and rows of coffins, which are probably filled not with riches.\")\n",
        "    time.sleep(1)\n",
        "    print(\"At the end of the hallway, you find a door.\")\n",
        "    time.sleep(1)\n",
        "    print(\"Opening the door, you find a staircase that leads downwards.\")\n",
        "    time.sleep(1)\n",
        "    print(\"At the bottom of the staircase, you find a sleeping dragon!\")\n",
        "    secondChoice = input(\"Do you decide to sneak past the dragon (s), or get a surprise attack on it (a)? \")\n",
        "    if secondChoice == \"y\":\n",
        "      sneakChance = random.randint(1, 2)\n",
        "      #chooses 1 or 2 randomly\n",
        "      if sneakChance == 1:\n",
        "        time.sleep(3)\n",
        "        print(\"You successfully snuck past the dragon!\")\n",
        "      else:\n",
        "        time.sleep(3)\n",
        "        print(\"The dragon wakes up, angry that you interrupted its nap.\")\n",
        "        print(\"You have lost the game.\")\n",
        "    else:\n",
        "      if firstItem == \"s\":\n",
        "        time.sleep(1)\n",
        "        print(\"With a weapon to actually harm the dragon, you successfully defeat the dragon in its sleep!\")\n",
        "      else:\n",
        "        time.sleep(1)\n",
        "        print(\"You decide to sucker punch the dragon in its eye, which only irritated it.\")\n",
        "        time.sleep(1)\n",
        "        print(\"At least you made a good meal.\")\n",
        "        time.sleep(2)\n",
        "        print(\"You have lost the game.\")\n",
        "\n",
        "  time.sleep(2)\n",
        "  print(\"Thank you for playing.\")\n",
        "\n",
        "ruinDelver()"
      ],
      "execution_count": null,
      "outputs": []
    },
    {
      "cell_type": "code",
      "metadata": {
        "id": "vXZaPLwZDy3s"
      },
      "source": [
        "if direction == \"f\" or \"forward\" or \"Forward\"\n",
        "#i was unable to change the direction because i worded the code poorly with this if statement.\n",
        "# i fixed this by puting \"direction ==\" between each \"or\"\n",
        "\n",
        "class ruinDelver()\n",
        "#I originally tried to make Ruin Delver a class, which caused issues with the first item because the functions that i later put in the code wouldn't be able to use the variable firstItem\n",
        "#I fixed this by just making ruinDelver a function"
      ],
      "execution_count": null,
      "outputs": []
    }
  ]
}