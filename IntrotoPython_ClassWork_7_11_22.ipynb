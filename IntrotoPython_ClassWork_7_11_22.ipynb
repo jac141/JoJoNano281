{
  "nbformat": 4,
  "nbformat_minor": 0,
  "metadata": {
    "colab": {
      "name": "IntrotoPython_ClassWork_7.11.22.ipynb",
      "provenance": []
    },
    "kernelspec": {
      "name": "python3",
      "display_name": "Python 3"
    },
    "language_info": {
      "name": "python"
    }
  },
  "cells": [
    {
      "cell_type": "markdown",
      "source": [
        "# Class Activities\n",
        "\n",
        "This is what we worked on in class 7.11.22 during intro to python with notes. I hope this is helpful"
      ],
      "metadata": {
        "id": "snWY-tj39N8I"
      }
    },
    {
      "cell_type": "code",
      "execution_count": null,
      "metadata": {
        "colab": {
          "base_uri": "https://localhost:8080/"
        },
        "id": "VSGqu3CncCaK",
        "outputId": "be4d4f66-29db-49df-9a94-3996882224dc"
      },
      "outputs": [
        {
          "name": "stdout",
          "output_type": "stream",
          "text": [
            "6\n",
            "22\n",
            "9\n"
          ]
        }
      ],
      "source": [
        "x = 2 * 3\n",
        "y = \"2\" * 2\n",
        "print(x)\n",
        "print(y)\n",
        "x = 9\n",
        "print(x)"
      ]
    },
    {
      "cell_type": "code",
      "source": [
        "# Math Cell \n",
        "\n",
        "# 2 # Integer (int) have no decimal place\n",
        "# 3 # Interger \n",
        "# 3.5 # Float floats have decimal places\n",
        "# type(2) # You can use the type() function to determine what kind of object you are working with\n",
        "# type(5 ** 347) # \"**\" operator means to the power of. 2 squared is actually 2 to the power 2\n",
        "# \n",
        "# type(6 / 3)\n",
        "# type(2.0)\n",
        "81 ** 0.5\n",
        "81 / 9.0"
      ],
      "metadata": {
        "colab": {
          "base_uri": "https://localhost:8080/"
        },
        "id": "fpcL3RrVGvtq",
        "outputId": "2156f50d-d322-4e08-eb58-931e74954924"
      },
      "execution_count": null,
      "outputs": [
        {
          "output_type": "execute_result",
          "data": {
            "text/plain": [
              "9.0"
            ]
          },
          "metadata": {},
          "execution_count": 49
        }
      ]
    },
    {
      "cell_type": "code",
      "source": [
        "# String Cell \n",
        "\n",
        "\n",
        "x = \"hello students\" # X is a placeholder for an object \n",
        "y = 2.6666666366468463543545\n",
        "type(int(y)) # Use different functions like int() float() or even str() to turn one type of object into another \n",
        "\n",
        "z = \"HELLO STUDENTS\"\n",
        "\n",
        "\n",
        "# Boolean relations or BOOL is a way to compare values of objects and to ascertain if functions are working correctly \n",
        "\n",
        "z == x.upper()  # using a function to operate on strings \n",
        "\n",
        "# == i want you to say equivalent and not equal because often people say im going to set a variable equal. \n",
        "\n",
        "len(str(y)) #len is short for length"
      ],
      "metadata": {
        "colab": {
          "base_uri": "https://localhost:8080/"
        },
        "id": "0iOiube4JPAq",
        "outputId": "26e4d8e8-7bd7-4f8e-9100-da38ffee0680"
      },
      "execution_count": null,
      "outputs": [
        {
          "output_type": "execute_result",
          "data": {
            "text/plain": [
              "18"
            ]
          },
          "metadata": {},
          "execution_count": 31
        }
      ]
    },
    {
      "cell_type": "code",
      "execution_count": null,
      "metadata": {
        "colab": {
          "base_uri": "https://localhost:8080/",
          "height": 35
        },
        "id": "umNo5GUQoEMI",
        "outputId": "0c900f48-a475-43d3-896e-d2898b2661ab"
      },
      "outputs": [
        {
          "output_type": "execute_result",
          "data": {
            "text/plain": [
              "'jojo'"
            ],
            "application/vnd.google.colaboratory.intrinsic+json": {
              "type": "string"
            }
          },
          "metadata": {},
          "execution_count": 34
        }
      ],
      "source": [
        "# Function Cell \n",
        "\n",
        "# Were funcitons. We develop functions to do complex tasks without having to specify them every time. \n",
        "# Inside of our functions we can use established methods in python to do a lot of the heavy lifting\n",
        "# Any time you use a colon and then hit enter it will automatically tab over \n",
        "\n",
        "def my_method(blahblah):\n",
        "  # print(object.lower())\n",
        "   return object.lower() # this line has to listen to the line it is tabbed over from\n",
        "  # instructions part of the function\n",
        "    \n",
        "def calculus(object):\n",
        "  # Lets you know that everything is beholden to the def:\n",
        "  # tab means it has to listen to the command before   \n",
        "  # used in t different \n",
        "  return object * 2\n",
        "\n",
        "z = my_method(\"JOJO\")\n"
      ]
    },
    {
      "cell_type": "code",
      "source": [
        "# HW 1 Testing\n",
        "\n",
        "# You can daisy chain or connect methods together. you can use multiple methods together. \n",
        "\n",
        "x = \"JOJO is Awesome\"\n",
        "x.title().swapcase()\n",
        "\n",
        "# Take the object i was manipulating and i how i wanted to manipulate it and look it up on google. \n"
      ],
      "metadata": {
        "id": "uRzNuGJjMmkP"
      },
      "execution_count": null,
      "outputs": []
    },
    {
      "cell_type": "markdown",
      "source": [
        "https://www.w3schools.com/python/python_ref_string.asp\n",
        "\n",
        "This was a link we went to in class and we tested a lot of the python string methods. "
      ],
      "metadata": {
        "id": "8F21lxt092EQ"
      }
    },
    {
      "cell_type": "code",
      "execution_count": null,
      "metadata": {
        "id": "DzYYZ7xl40d2",
        "colab": {
          "base_uri": "https://localhost:8080/"
        },
        "outputId": "8e0dddde-ee79-4b08-e4fc-fae937bca359"
      },
      "outputs": [
        {
          "output_type": "stream",
          "name": "stdout",
          "text": [
            "HW Problem 1 Function 1 is correct\n"
          ]
        }
      ],
      "source": [
        "# HW Problem 1 Part 1 Function 1\n",
        "# Make a function called silly_case \n",
        "# that takes a string  and returns a new string that is the same as the input string\n",
        "# but the first letter of each word is in lowercase \n",
        "# and all the other letters are uppercase.\n",
        "# Please do not use looping!!\n",
        "\n",
        "poem = \"It matters now how straight the gate, \\nhow charged with punishments the scroll. \\nI am the master of my fate: \\nI am the captain of my soul.\"\n",
        "x = \"This is a string\"\n",
        "\n",
        "def silly_case(string):\n",
        "  x = string.title().swapcase()\n",
        "  return x \n",
        "\n",
        "\n",
        "\n",
        "assert silly_case(poem) == \"iT mATTERS nOW hOW sTRAIGHT tHE gATE, \\nhOW cHARGED wITH pUNISHMENTS tHE sCROLL. \\ni aM tHE mASTER oF mY fATE: \\ni aM tHE cAPTAIN oF mY sOUL.\"\n",
        "assert silly_case(x) == \"tHIS iS a sTRING\"\n",
        "print(\"HW Problem 1 Function 1 is correct\")"
      ]
    },
    {
      "cell_type": "code",
      "source": [
        "# HW Problem 1 Part 1 Function 2\n",
        "\n",
        "# Make a function called dash_stringify \n",
        "# so that is takes a list of words (strings) and returns a string\n",
        "# that contains all the words from the list with ‘-’ in between the words.\n",
        "# No looping!!!\n",
        "\n",
        "\n",
        "def markanswer(object):\n",
        "  string = \"-\".join(object)\n",
        "  return string\n",
        "\n",
        "\n",
        "\n",
        "assert dash_stringify(fruits) == \"Orange-Lemon-Lime-Cherry-Peach-Apricot\"\n",
        "try:\n",
        "  assert dash_stringify(nums) == \"1-2-3\"\n",
        "except:\n",
        "  print(\"Dash Stringify can only be used on Strings\")\n",
        "print(\"HW Problem 1 Function 2 is correct\")"
      ],
      "metadata": {
        "id": "Cr1nAses8mzE"
      },
      "execution_count": null,
      "outputs": []
    },
    {
      "cell_type": "code",
      "source": [
        "# HW Problem 1 Part 1 Function 3\n",
        "\n",
        "# This function is also probably a part of you 90 problems. \n",
        "\n",
        "\n",
        "# Make a function called is_perfect_square so that it takes a number as an input and returns True if the \n",
        "# given number is a perfect square, or False if it is not. \n",
        "# Please do not use looping!!\n",
        "\n",
        "# A perfect square is an integer number which is the square of an integer. For example 25 (5*5),  49 \n",
        "# (7*7), and 81 (9*9) are all perfect squares\n",
        "\n",
        "def is_perfect_square1(integer):\n",
        "  root = integer ** 0.5 # taking the square root of something is the same as raising to 0.5\n",
        "  if integer/root == integer//root:   # if - else statements are designed to give conditions if this do this else do something else\n",
        "    return True                       # Notice how returns are tabbed over but if and else are on the same level. \n",
        "  else:                               # If and else are equal statements or conditions. if one thing. else another thing\n",
        "    return False                      # but there are tons of other types of functions and usuable conditions. \n",
        "\n",
        "def is_perfect_square2(n) :  # very complex way to do this. We arent here yet\n",
        "    i = 1\n",
        "    while(i * i<= n):\n",
        "         \n",
        "        # If (i * i = n)\n",
        "        if ((n % i == 0) and (n / i == i)):\n",
        "            return True\n",
        "             \n",
        "        i = i + 1\n",
        "    return False\n",
        "\n",
        "import math # library and library is collect of functions/methods written by others\n",
        "\n",
        "def is_perfect_square3(integer):\n",
        "  root = int (math.sqrt(integer) + 0.5)\n",
        "  if root**2 == integer:\n",
        "    return True\n",
        "  return False\n",
        "\n",
        "\n",
        "assert is_perfect_square1(81) == True\n",
        "assert is_perfect_square1(82) == False\n",
        "assert is_perfect_square2(81) == True\n",
        "assert is_perfect_square2(83) == False\n",
        "assert is_perfect_square3(81) == True\n",
        "assert is_perfect_square3(83) == False\n",
        "\n",
        "print(\"HW1 Function 3 is correct\")\n"
      ],
      "metadata": {
        "id": "iupiEEWqv-_u"
      },
      "execution_count": null,
      "outputs": []
    }
  ]
}