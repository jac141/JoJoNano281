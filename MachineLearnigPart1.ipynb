{
 "cells": [
  {
   "cell_type": "markdown",
   "id": "502ff416-5db4-46c1-8958-ab949b349110",
   "metadata": {},
   "source": [
    "Multiple regression \n",
    "\n",
    "Scale\n",
    "\n",
    "Traint/Test\n",
    "\n"
   ]
  },
  {
   "cell_type": "code",
   "execution_count": null,
   "id": "39183c3d-9ed8-4395-a8bb-41a4ed072632",
   "metadata": {},
   "outputs": [],
   "source": [
    "# Install other useful files\n",
    "\n",
    "!pip install pandas \n",
    "!pip install numpy\n",
    "!pip install matplotlib\n",
    "!pip install sklearn\n",
    "\n",
    "# if you're not familiar with any library like pandas there are tons of tutorials\n",
    "# read_csv\n",
    "# \n",
    "\n"
   ]
  },
  {
   "cell_type": "code",
   "execution_count": 5,
   "id": "aca8ade9-5a20-4fa5-8b56-89392c0d33a5",
   "metadata": {},
   "outputs": [],
   "source": [
    "import pandas as pd\n",
    "import numpy as np\n",
    "import matplotlib as plt\n",
    "from sklearn import linear_model\n",
    "# from sklearn.model_selection import train_test_split"
   ]
  },
  {
   "cell_type": "code",
   "execution_count": 3,
   "id": "fb60c113-3189-45a8-b518-023f3c159111",
   "metadata": {},
   "outputs": [
    {
     "name": "stdout",
     "output_type": "stream",
     "text": [
      "           Car       Model  Volume  Weight  CO2\n",
      "0       Toyoty        Aygo    1000     790   99\n",
      "1   Mitsubishi  Space Star    1200    1160   95\n",
      "2        Skoda      Citigo    1000     929   95\n",
      "3         Fiat         500     900     865   90\n",
      "4         Mini      Cooper    1500    1140  105\n",
      "5           VW         Up!    1000     929  105\n",
      "6        Skoda       Fabia    1400    1109   90\n",
      "7     Mercedes     A-Class    1500    1365   92\n",
      "8         Ford      Fiesta    1500    1112   98\n",
      "9         Audi          A1    1600    1150   99\n",
      "10     Hyundai         I20    1100     980   99\n",
      "11      Suzuki       Swift    1300     990  101\n",
      "12        Ford      Fiesta    1000    1112   99\n",
      "13       Honda       Civic    1600    1252   94\n",
      "14      Hundai         I30    1600    1326   97\n",
      "15        Opel       Astra    1600    1330   97\n",
      "16         BMW           1    1600    1365   99\n",
      "17       Mazda           3    2200    1280  104\n",
      "18       Skoda       Rapid    1600    1119  104\n",
      "19        Ford       Focus    2000    1328  105\n",
      "20        Ford      Mondeo    1600    1584   94\n",
      "21        Opel    Insignia    2000    1428   99\n",
      "22    Mercedes     C-Class    2100    1365   99\n",
      "23       Skoda     Octavia    1600    1415   99\n",
      "24       Volvo         S60    2000    1415   99\n",
      "25    Mercedes         CLA    1500    1465  102\n",
      "26        Audi          A4    2000    1490  104\n",
      "27        Audi          A6    2000    1725  114\n",
      "28       Volvo         V70    1600    1523  109\n",
      "29         BMW           5    2000    1705  114\n",
      "30    Mercedes     E-Class    2100    1605  115\n",
      "31       Volvo        XC70    2000    1746  117\n",
      "32        Ford       B-Max    1600    1235  104\n",
      "33         BMW         216    1600    1390  108\n",
      "34        Opel      Zafira    1600    1405  109\n",
      "35    Mercedes         SLK    2500    1395  120\n"
     ]
    }
   ],
   "source": [
    "df = pd.read_csv(\"cars.csv\")\n",
    "\n",
    "print(df)"
   ]
  },
  {
   "cell_type": "code",
   "execution_count": 16,
   "id": "b6861ba4-7bfc-491e-808d-d1bac1bc50f5",
   "metadata": {},
   "outputs": [],
   "source": [
    "X = df[['Weight', 'Volume']]\n",
    "X = X.values                # We had a dataframe that was based on names to gather values\n",
    "                            # We needed to make the dataframe with the names on top because \n",
    "                            # we didnt call our predited by that name just the values\n",
    "y = df[\"CO2\"]"
   ]
  },
  {
   "cell_type": "code",
   "execution_count": 17,
   "id": "d2504e6b-20c3-4806-8515-5100ac9a87e9",
   "metadata": {},
   "outputs": [
    {
     "data": {
      "text/plain": [
       "LinearRegression()"
      ]
     },
     "execution_count": 17,
     "metadata": {},
     "output_type": "execute_result"
    }
   ],
   "source": [
    "regr = linear_model.LinearRegression()\n",
    "regr.fit(X,y)"
   ]
  },
  {
   "cell_type": "code",
   "execution_count": 19,
   "id": "b1505b11-8e10-4f71-8f00-e08d4eaea3e2",
   "metadata": {},
   "outputs": [
    {
     "data": {
      "text/plain": [
       "array([107.2087328])"
      ]
     },
     "execution_count": 19,
     "metadata": {},
     "output_type": "execute_result"
    }
   ],
   "source": [
    "# predict the C02 emmision of a car where the weight is 2300 KG and the volume is 1300 cm3:\n",
    "\n",
    "\n",
    "predictedC02 = regr.predict([[2300, 1300]])\n",
    "predictedC02"
   ]
  },
  {
   "cell_type": "code",
   "execution_count": 20,
   "id": "7906f417-4877-4644-8171-3b19f62c657b",
   "metadata": {},
   "outputs": [
    {
     "name": "stdout",
     "output_type": "stream",
     "text": [
      "[0.00755095 0.00780526]\n"
     ]
    }
   ],
   "source": [
    "print(regr.coef_)"
   ]
  },
  {
   "cell_type": "code",
   "execution_count": null,
   "id": "6593f2ed-392b-4d60-ade4-f8250d244dab",
   "metadata": {},
   "outputs": [],
   "source": [
    "predictedC02_2 = regr.predict([[3300, 1300]])\n",
    "\n",
    "print(predictedC02_2)\n",
    "\n",
    "#assert (107.2087328 + 1000*0.00755095) == 114.75968007 #round using the rd function "
   ]
  },
  {
   "cell_type": "code",
   "execution_count": 25,
   "id": "6f6b4cee-5a93-4cc5-b061-45955b3bd670",
   "metadata": {},
   "outputs": [
    {
     "data": {
      "text/plain": [
       "114.75968280000001"
      ]
     },
     "execution_count": 25,
     "metadata": {},
     "output_type": "execute_result"
    }
   ],
   "source": [
    "(107.2087328 + 1000*0.00755095) # we are gonna say our model predicts just fine"
   ]
  },
  {
   "cell_type": "code",
   "execution_count": null,
   "id": "c4aeb4b9-9feb-492e-8a18-7a74217f6b0b",
   "metadata": {},
   "outputs": [],
   "source": []
  }
 ],
 "metadata": {
  "kernelspec": {
   "display_name": "Python 3 (ipykernel)",
   "language": "python",
   "name": "python3"
  },
  "language_info": {
   "codemirror_mode": {
    "name": "ipython",
    "version": 3
   },
   "file_extension": ".py",
   "mimetype": "text/x-python",
   "name": "python",
   "nbconvert_exporter": "python",
   "pygments_lexer": "ipython3",
   "version": "3.7.12"
  }
 },
 "nbformat": 4,
 "nbformat_minor": 5
}
